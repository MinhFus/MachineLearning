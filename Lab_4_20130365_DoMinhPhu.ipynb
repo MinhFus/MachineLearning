{
  "nbformat": 4,
  "nbformat_minor": 0,
  "metadata": {
    "colab": {
      "provenance": [],
      "include_colab_link": true
    },
    "kernelspec": {
      "name": "python3",
      "display_name": "Python 3"
    },
    "language_info": {
      "name": "python"
    }
  },
  "cells": [
    {
      "cell_type": "markdown",
      "metadata": {
        "id": "view-in-github",
        "colab_type": "text"
      },
      "source": [
        "<a href=\"https://colab.research.google.com/github/MinhFus/MachineLearning/blob/main/Lab_4_20130365_DoMinhPhu.ipynb\" target=\"_parent\"><img src=\"https://colab.research.google.com/assets/colab-badge.svg\" alt=\"Open In Colab\"/></a>"
      ]
    },
    {
      "cell_type": "markdown",
      "source": [
        "# This lab is to continous dealing with **Logistic Regression**, **kNN**, and **Decision Tree** alogirthms applied to classification tasks. \n",
        "\n",
        "*   **Deadline: 23:59, 12/03/2023**\n",
        "\n"
      ],
      "metadata": {
        "id": "LMzehe0sy5wr"
      }
    },
    {
      "cell_type": "markdown",
      "source": [
        "# Import libraries"
      ],
      "metadata": {
        "id": "H4nJmxp9zGX4"
      }
    },
    {
      "cell_type": "code",
      "execution_count": 42,
      "metadata": {
        "id": "DoVWQ8AEyc-C"
      },
      "outputs": [],
      "source": [
        "# code\n",
        "import pandas as pd\n",
        "import matplotlib.pyplot as plt\n",
        "import sklearn.metrics as metrics\n",
        "from sklearn import datasets\n",
        "from warnings import simplefilter\n",
        "from sklearn.metrics import accuracy_score\n",
        "from sklearn.metrics import confusion_matrix \n",
        "from sklearn.metrics import ConfusionMatrixDisplay\n",
        "from sklearn.model_selection import train_test_split\n",
        "from sklearn.linear_model import LogisticRegression\n",
        "from sklearn.linear_model import LinearRegression\n",
        "from sklearn.neighbors import KNeighborsClassifier\n",
        "from sklearn.tree import DecisionTreeClassifier"
      ]
    },
    {
      "cell_type": "code",
      "source": [
        "from google.colab import drive\n",
        "drive.mount('/content/gdrive')\n",
        "%cd '/content/gdrive/MyDrive/NLU/Machine Learning/BaiTap'"
      ],
      "metadata": {
        "colab": {
          "base_uri": "https://localhost:8080/"
        },
        "id": "U_fKKpswEGZR",
        "outputId": "c2fe4915-f987-4959-9b2f-dda98ea8e52b"
      },
      "execution_count": null,
      "outputs": [
        {
          "output_type": "stream",
          "name": "stdout",
          "text": [
            "Mounted at /content/gdrive\n",
            "/content/gdrive/MyDrive/NLU/Machine Learning/BaiTap\n"
          ]
        }
      ]
    },
    {
      "cell_type": "markdown",
      "source": [
        "#Task 1. \n",
        "Apply **LogisticRegression** to iris dataset which aims at classifying species of iris based on sepal_length (chiều dài đài hoa), sepal_width, petal_length (chiều dài cánh hoa), petal_width. The species are '**setosa**' '**versicolor**' and '**virginica**'. \n",
        "\n",
        "\n",
        "\n",
        "```\n",
        "from sklearn import datasets\n",
        "data4 = datasets.load_iris()\n",
        "```\n",
        "\n",
        "\n"
      ],
      "metadata": {
        "id": "kNv07ARGzOUm"
      }
    },
    {
      "cell_type": "code",
      "source": [
        "# code\n",
        "from sklearn import datasets\n",
        "data4 = datasets.load_iris()\n",
        "x = data4['data']\n",
        "y = data4['target']\n",
        "# print(x)\n",
        "# print(y)\n",
        "classifier = LogisticRegression(random_state = 0) \n",
        "X_train, X_test, Y_train, Y_test = train_test_split(x,y, test_size = 0.3,random_state=None, shuffle=True, stratify=None)\n",
        "classifier.fit(X_train, Y_train) \n",
        "y_pred = classifier.predict(X_test)\n",
        "cm = confusion_matrix(Y_test, y_pred) \n",
        "print(cm)\n",
        "print (\"Accuracy : \", accuracy_score(Y_test, y_pred))"
      ],
      "metadata": {
        "id": "sOsg77IBzEyo",
        "colab": {
          "base_uri": "https://localhost:8080/"
        },
        "outputId": "43d33da6-fab2-436f-ce40-61d69add0cb2"
      },
      "execution_count": null,
      "outputs": [
        {
          "output_type": "stream",
          "name": "stdout",
          "text": [
            "[[16  0  0]\n",
            " [ 0 15  2]\n",
            " [ 0  0 12]]\n",
            "Accuracy :  0.9555555555555556\n"
          ]
        }
      ]
    },
    {
      "cell_type": "code",
      "source": [
        "ConfusionMatrixDisplay.from_predictions(Y_test,y_pred)"
      ],
      "metadata": {
        "colab": {
          "base_uri": "https://localhost:8080/",
          "height": 300
        },
        "id": "aZG7QPBTzurd",
        "outputId": "61797cd2-bb2a-4b58-a7ad-1d93eea0d2d2"
      },
      "execution_count": null,
      "outputs": [
        {
          "output_type": "execute_result",
          "data": {
            "text/plain": [
              "<sklearn.metrics._plot.confusion_matrix.ConfusionMatrixDisplay at 0x7f08529fdfd0>"
            ]
          },
          "metadata": {},
          "execution_count": 6
        },
        {
          "output_type": "display_data",
          "data": {
            "text/plain": [
              "<Figure size 432x288 with 2 Axes>"
            ],
            "image/png": "[encoded data removed]"
          },
          "metadata": {
            "needs_background": "light"
          }
        }
      ]
    },
    {
      "cell_type": "markdown",
      "source": [
        "#Task 2. \n",
        "Apply LogisticRegression to **MNIST** dataset (mnist.csv) which aims at classifying handwritten digits. Dataset includes 784 pixels values of images (28x28). \n",
        "\n",
        "\n",
        "```\n",
        "from sklearn import datasets\n",
        "# load the MNIST digits dataset\n",
        "mnist = datasets.load_digits()\n",
        "```\n",
        "\n"
      ],
      "metadata": {
        "id": "S43IoUT-0OQq"
      }
    },
    {
      "cell_type": "code",
      "source": [
        "mnist = datasets.load_digits()\n",
        "x1 = mnist['data']\n",
        "y1 = mnist['target']\n",
        "classifier1 = LogisticRegression(random_state = 0) \n",
        "X1_train, X1_test, Y1_train, Y1_test = train_test_split(x1,y1, test_size = 0.3,random_state=None, shuffle=True, stratify=None)\n",
        "classifier1.fit(X1_train, Y1_train) \n",
        "y1_pred = classifier1.predict(X1_test)\n",
        "cm1 = confusion_matrix(Y1_test, y1_pred) \n",
        "print(cm1)"
      ],
      "metadata": {
        "colab": {
          "base_uri": "https://localhost:8080/"
        },
        "id": "Ho1FX23u2GAE",
        "outputId": "08538a0f-2f43-4c23-9d7b-69e196e0c8d1"
      },
      "execution_count": null,
      "outputs": [
        {
          "output_type": "stream",
          "name": "stdout",
          "text": [
            "[[51  0  0  0  1  1  0  0  0  0]\n",
            " [ 0 57  1  0  0  0  0  0  1  1]\n",
            " [ 0  1 57  0  0  0  0  0  0  0]\n",
            " [ 0  0  0 47  0  0  0  0  1  0]\n",
            " [ 1  1  0  0 49  0  1  1  0  0]\n",
            " [ 0  0  0  3  0 43  0  0  0  0]\n",
            " [ 0  1  0  0  0  0 62  0  0  0]\n",
            " [ 0  0  0  0  0  0  0 57  0  0]\n",
            " [ 0  2  0  0  0  1  0  0 51  0]\n",
            " [ 0  1  0  0  0  0  0  0  2 45]]\n"
          ]
        },
        {
          "output_type": "stream",
          "name": "stderr",
          "text": [
            "/usr/local/lib/python3.9/dist-packages/sklearn/linear_model/_logistic.py:458: ConvergenceWarning: lbfgs failed to converge (status=1):\n",
            "STOP: TOTAL NO. of ITERATIONS REACHED LIMIT.\n",
            "\n",
            "Increase the number of iterations (max_iter) or scale the data as shown in:\n",
            "    https://scikit-learn.org/stable/modules/preprocessing.html\n",
            "Please also refer to the documentation for alternative solver options:\n",
            "    https://scikit-learn.org/stable/modules/linear_model.html#logistic-regression\n",
            "  n_iter_i = _check_optimize_result(\n"
          ]
        }
      ]
    },
    {
      "cell_type": "code",
      "source": [
        "ConfusionMatrixDisplay.from_predictions(Y1_test,y1_pred)"
      ],
      "metadata": {
        "colab": {
          "base_uri": "https://localhost:8080/",
          "height": 296
        },
        "id": "ysHofoMW3BzQ",
        "outputId": "47fec30f-bd00-4f03-b4f3-6085b2db248f"
      },
      "execution_count": null,
      "outputs": [
        {
          "output_type": "execute_result",
          "data": {
            "text/plain": [
              "<sklearn.metrics._plot.confusion_matrix.ConfusionMatrixDisplay at 0x7f081dc58d90>"
            ]
          },
          "metadata": {},
          "execution_count": 13
        },
        {
          "output_type": "display_data",
          "data": {
            "text/plain": [
              "<Figure size 432x288 with 2 Axes>"
            ],
            "image/png": "[encoded data removed]"
          },
          "metadata": {
            "needs_background": "light"
          }
        }
      ]
    },
    {
      "cell_type": "markdown",
      "source": [
        "#Task 3. \n",
        "Apply another classification algorithm named kNN, which is an instance classifcation model. \n",
        "*  3.1. Perform kNN algorithm to Iris dataset with k={1, 3, 5, …, 29}. Select the best value of k.\n",
        "\n",
        "*   3.2. Then compare the obtained results with those using Logistic regression (based on metrics: accuracy, precision, recall, f1 measure).\n"
      ],
      "metadata": {
        "id": "Rti2y0Wz2KY9"
      }
    },
    {
      "cell_type": "code",
      "source": [
        "# code\n",
        "k_range = range(1,30,2)\n",
        "aces =[]\n",
        "precision =[]\n",
        "recall = []\n",
        "f1 = []\n",
        "for k in k_range:\n",
        "  kNN = KNeighborsClassifier(n_neighbors = k)\n",
        "  kNN.fit(X_train,Y_train)\n",
        "  y_pred = kNN.predict(X_test)\n",
        "\n",
        "  aces.append(metrics.accuracy_score(Y_test, y_pred))\n",
        "  precision.append(metrics.precision_score(Y_test, y_pred, average='macro'))\n",
        "  recall.append(metrics.recall_score(Y_test, y_pred, average='macro'))\n",
        "  f1.append(metrics.f1_score(Y_test, y_pred, average='macro'))\n",
        "\n",
        "plt.plot(k_range,aces,label='aces')\n",
        "plt.plot(k_range,precision,label='precision')\n",
        "plt.plot(k_range,recall,label='recall')\n",
        "plt.plot(k_range,f1,label='f1')\n",
        "plt.xlabel(\"k\") \n",
        "plt.legend()"
      ],
      "metadata": {
        "id": "13LkkfpS2ZUR",
        "colab": {
          "base_uri": "https://localhost:8080/",
          "height": 296
        },
        "outputId": "25e2a4ba-af8a-4048-8a04-54a7ea10d14c"
      },
      "execution_count": null,
      "outputs": [
        {
          "output_type": "execute_result",
          "data": {
            "text/plain": [
              "<matplotlib.legend.Legend at 0x7f081dc584c0>"
            ]
          },
          "metadata": {},
          "execution_count": 15
        },
        {
          "output_type": "display_data",
          "data": {
            "text/plain": [
              "<Figure size 432x288 with 1 Axes>"
            ],
            "image/png": "[encoded data removed]"
          },
          "metadata": {
            "needs_background": "light"
          }
        }
      ]
    },
    {
      "cell_type": "markdown",
      "source": [
        "#Task 4. \n",
        "Similar to Task 3, apply kNN algorithm to **mnist** dataset which included in datasets of sklearn API.\n",
        "*  4.1.\tPerform kNN algorithm to Iris dataset with k={1, 3, 5, …, 29}. Select the best value of k.\n",
        "*  4.2.\tThen compare the obtained results with those using Logistic regression (based on metrics: accuracy, precision, recall, f1 measure).\n"
      ],
      "metadata": {
        "id": "b52OPWPD2afi"
      }
    },
    {
      "cell_type": "code",
      "source": [
        "# code\n",
        "k1_range = range(1,30,2)\n",
        "aces =[]\n",
        "precision =[]\n",
        "recall = []\n",
        "f1 = []\n",
        "for k in k1_range:\n",
        "  kNN = KNeighborsClassifier(n_neighbors = k)\n",
        "  kNN.fit(X1_train,Y1_train)\n",
        "  y1_pred = kNN.predict(X1_test)\n",
        "\n",
        "  aces.append(metrics.accuracy_score(Y1_test, y1_pred))\n",
        "  precision.append(metrics.precision_score(Y1_test, y1_pred, average='macro'))\n",
        "  recall.append(metrics.recall_score(Y1_test, y1_pred, average='macro'))\n",
        "  f1.append(metrics.f1_score(Y1_test, y1_pred, average='macro'))\n",
        "\n",
        "plt.plot(k1_range,aces,label='aces')\n",
        "plt.plot(k1_range,precision,label='precision')\n",
        "plt.plot(k1_range,recall,label='recall')\n",
        "plt.plot(k1_range,f1,label='f1')\n",
        "plt.xlabel(\"k\") \n",
        "plt.legend()"
      ],
      "metadata": {
        "id": "Rw_-8FIf2KxW",
        "colab": {
          "base_uri": "https://localhost:8080/",
          "height": 296
        },
        "outputId": "ebaeb172-0506-46ae-99d1-0452bee6470e"
      },
      "execution_count": null,
      "outputs": [
        {
          "output_type": "execute_result",
          "data": {
            "text/plain": [
              "<matplotlib.legend.Legend at 0x7f08208bd1f0>"
            ]
          },
          "metadata": {},
          "execution_count": 16
        },
        {
          "output_type": "display_data",
          "data": {
            "text/plain": [
              "<Figure size 432x288 with 1 Axes>"
            ],
            "image/png": "[encoded data removed]"
          },
          "metadata": {
            "needs_background": "light"
          }
        }
      ]
    },
    {
      "cell_type": "markdown",
      "source": [
        "#Task 5. \n",
        "Compare the performance of selected classification algorithms (**Decision Treen, kNN, and Logistic Regression**) to ***spam detection***. The dataset can be accessed from the link: http://archive.ics.uci.edu/ml/datasets/Spambase \n",
        "Attribute Information:\n",
        "The last column of 'spambase.csv denotes whether the e-mail was considered spam (1) or not (0), i.e. unsolicited commercial e-mail. Most of the attributes indicate whether a particular word or character was frequently occuring in the e-mail. The run-length attributes (55-57) measure the length of sequences of consecutive capital letters. For the statistical measures of each attribute, see the end of this file. Here are the definitions of the attributes: \n",
        "*  48 continuous real [0,100] attributes of type word_freq_WORD \n",
        "= percentage of words in the e-mail that match WORD, i.e. 100 * (number of times the WORD appears in the e-mail) / total number of words in e-mail. A \"word\" in this case is any string of alphanumeric characters bounded by non-alphanumeric characters or end-of-string. **Example**: word_freq_address: percentage of words in the e-mail that match ADDRESS.\n",
        "*  6 continuous real [0,100] attributes of type char_freq_CHAR] \n",
        "= percentage of characters in the e-mail that match CHAR, i.e. 100 * (number of CHAR occurences) / total characters in e-mail\n",
        "*  1 continuous real [1,...] attribute of type capital_run_length_average \n",
        "= average length of uninterrupted sequences of capital letters\n",
        "*  1 continuous integer [1,...] attribute of type capital_run_length_longest \n",
        "= length of longest uninterrupted sequence of capital letters\n",
        "*  1 continuous integer [1,...] attribute of type capital_run_length_total = sum of length of uninterrupted sequences of capital letters = total number of capital letters in the e-mail\n",
        "*  1 nominal {0,1} class attribute of type spam = denotes whether the e-mail was considered spam (1) or not (0), i.e. unsolicited commercial e-mail. \n",
        "\n",
        "\n",
        "---\n",
        "\n",
        "\n",
        "In order to compare the performance of selected algorithms, some common metrics including **accuracy, precision, recall, f1 measures** could be used.\n"
      ],
      "metadata": {
        "id": "MVzSk4l505E0"
      }
    },
    {
      "cell_type": "code",
      "source": [
        "# code\n",
        "df = pd.read_csv('spambase.csv')\n",
        "x5 = df.iloc[:,:-1]\n",
        "y5 = df[[ 'class']]\n",
        "X5_train, X5_test, Y5_train, Y5_test = train_test_split(x5, y5, test_size = 0.3, train_size= 0.7,random_state = None,shuffle=True, stratify=None)\n",
        "\n",
        "aces =[]\n",
        "precision =[]\n",
        "recall = []\n",
        "f1 = []"
      ],
      "metadata": {
        "id": "W_1v_ivR2f6D"
      },
      "execution_count": 96,
      "outputs": []
    },
    {
      "cell_type": "code",
      "source": [
        "# Decision Tree\n",
        "clf_model = DecisionTreeClassifier(criterion=\"gini\", random_state=42,\n",
        "max_depth=3, min_samples_leaf=5)\n",
        "clf_model.fit(X5_train,Y5_train)\n",
        "y_pred_DT = clf_model.predict(X5_test)\n",
        "\n",
        "aces_DT = metrics.accuracy_score(Y5_test, y_pred_DT)\n",
        "precision_DT = metrics.precision_score(Y5_test, y_pred_DT, average='macro')\n",
        "recall_DT = metrics.recall_score(Y5_test, y_pred_DT, average='macro')\n",
        "f1_DT = metrics.f1_score(Y5_test, y_pred_DT, average='macro')\n",
        "\n",
        "aces.append(aces_DT)\n",
        "precision.append(precision_DT)\n",
        "recall.append(recall_DT)\n",
        "f1.append(f1_DT)"
      ],
      "metadata": {
        "id": "rreIKQDT9SGe"
      },
      "execution_count": 97,
      "outputs": []
    },
    {
      "cell_type": "code",
      "source": [
        "# Logistic Regression\n",
        "classifier = LogisticRegression(random_state = 0) \n",
        "classifier.fit(X5_train, Y5_train)\n",
        "y_pred_LR = classifier.predict(X5_test)\n",
        "\n",
        "aces_LR = metrics.accuracy_score(Y5_test, y_pred_LR)\n",
        "precision_LR = metrics.precision_score(Y5_test, y_pred_LR, average='macro')\n",
        "recall_LR = metrics.recall_score(Y5_test, y_pred_LR, average='macro')\n",
        "f1_LR = metrics.f1_score(Y5_test, y_pred_LR, average='macro')\n",
        "\n",
        "aces.append(aces_LR)\n",
        "precision.append(precision_LR)\n",
        "recall.append(recall_LR)\n",
        "f1.append(f1_LR)"
      ],
      "metadata": {
        "colab": {
          "base_uri": "https://localhost:8080/"
        },
        "id": "kWc4EstBIcI6",
        "outputId": "39d0af35-8d64-4997-d51d-95666635aed3"
      },
      "execution_count": 98,
      "outputs": [
        {
          "output_type": "stream",
          "name": "stderr",
          "text": [
            "/usr/local/lib/python3.9/dist-packages/sklearn/utils/validation.py:1143: DataConversionWarning: A column-vector y was passed when a 1d array was expected. Please change the shape of y to (n_samples, ), for example using ravel().\n",
            "  y = column_or_1d(y, warn=True)\n",
            "/usr/local/lib/python3.9/dist-packages/sklearn/linear_model/_logistic.py:458: ConvergenceWarning: lbfgs failed to converge (status=1):\n",
            "STOP: TOTAL NO. of ITERATIONS REACHED LIMIT.\n",
            "\n",
            "Increase the number of iterations (max_iter) or scale the data as shown in:\n",
            "    https://scikit-learn.org/stable/modules/preprocessing.html\n",
            "Please also refer to the documentation for alternative solver options:\n",
            "    https://scikit-learn.org/stable/modules/linear_model.html#logistic-regression\n",
            "  n_iter_i = _check_optimize_result(\n"
          ]
        }
      ]
    },
    {
      "cell_type": "code",
      "source": [
        "# kNN\n",
        "kNN = KNeighborsClassifier(n_neighbors = 5)\n",
        "kNN.fit(X5_train,Y5_train)\n",
        "y_pred_kNN = kNN.predict(X5_test)\n",
        "\n",
        "aces_kNN = metrics.accuracy_score(Y5_test, y_pred_kNN)\n",
        "precision_kNN = metrics.precision_score(Y5_test, y_pred_kNN, average='macro')\n",
        "recall_kNN = metrics.recall_score(Y5_test, y_pred_kNN, average='macro')\n",
        "f1_kNN = metrics.f1_score(Y5_test, y_pred_kNN, average='macro')\n",
        "\n",
        "aces.append(aces_kNN)\n",
        "precision.append(precision_kNN)\n",
        "recall.append(recall_kNN)\n",
        "f1.append(f1_kNN)"
      ],
      "metadata": {
        "colab": {
          "base_uri": "https://localhost:8080/"
        },
        "id": "taliOipF-wpd",
        "outputId": "fa477a23-02f9-49ca-cfc0-e1cd0b1a852c"
      },
      "execution_count": 99,
      "outputs": [
        {
          "output_type": "stream",
          "name": "stderr",
          "text": [
            "/usr/local/lib/python3.9/dist-packages/sklearn/neighbors/_classification.py:215: DataConversionWarning: A column-vector y was passed when a 1d array was expected. Please change the shape of y to (n_samples,), for example using ravel().\n",
            "  return self._fit(X, y)\n"
          ]
        }
      ]
    },
    {
      "cell_type": "code",
      "source": [
        "# Aces\n",
        "name = ['Logistic Regression','Decision Tree','kNN']\n",
        "plt.bar(name,aces,color='orange')\n",
        "plt.show"
      ],
      "metadata": {
        "colab": {
          "base_uri": "https://localhost:8080/",
          "height": 282
        },
        "id": "fpo8IqRNCGU2",
        "outputId": "cb6d0aca-5647-4a90-a784-8f5978a5a262"
      },
      "execution_count": 102,
      "outputs": [
        {
          "output_type": "execute_result",
          "data": {
            "text/plain": [
              "<function matplotlib.pyplot.show(close=None, block=None)>"
            ]
          },
          "metadata": {},
          "execution_count": 102
        },
        {
          "output_type": "display_data",
          "data": {
            "text/plain": [
              "<Figure size 432x288 with 1 Axes>"
            ],
            "image/png": "[encoded data removed]"
          },
          "metadata": {
            "needs_background": "light"
          }
        }
      ]
    },
    {
      "cell_type": "markdown",
      "source": [
        "#Finally,\n",
        "Save a copy in your Github. Remember renaming the notebook."
      ],
      "metadata": {
        "id": "Ok7RGkea_b7n"
      }
    }
  ]
}