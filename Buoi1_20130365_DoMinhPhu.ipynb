{
  "nbformat": 4,
  "nbformat_minor": 0,
  "metadata": {
    "colab": {
      "provenance": [],
      "authorship_tag": "ABX9TyOIbF29njGyffIFBpK1RX93",
      "include_colab_link": true
    },
    "kernelspec": {
      "name": "python3",
      "display_name": "Python 3"
    },
    "language_info": {
      "name": "python"
    }
  },
  "cells": [
    {
      "cell_type": "markdown",
      "metadata": {
        "id": "view-in-github",
        "colab_type": "text"
      },
      "source": [
        "<a href=\"https://colab.research.google.com/github/MinhFus/MachineLearning/blob/main/Buoi1_20130365_DoMinhPhu.ipynb\" target=\"_parent\"><img src=\"https://colab.research.google.com/assets/colab-badge.svg\" alt=\"Open In Colab\"/></a>"
      ]
    },
    {
      "cell_type": "markdown",
      "source": [
        "Task1.1"
      ],
      "metadata": {
        "id": "rrqAajJMiZ4q"
      }
    },
    {
      "cell_type": "code",
      "source": [],
      "metadata": {
        "id": "gcsdF2qPuXsd"
      },
      "execution_count": null,
      "outputs": []
    },
    {
      "cell_type": "code",
      "source": [
        "n = int(input(\"n = \"))\n",
        "i = 0\n",
        "List = []\n",
        "for i in range(n):\n",
        "  List.append(int(input(str(i)+ \" =\")))\n",
        "print(List)\n",
        "print(\"Số lớn nhất: \"+str(max(List)))\n",
        "print(\"Số bé nhất: \"+str(min(List)))\n",
        "sum = 0\n",
        "for i in List:\n",
        "  sum = sum + i\n",
        "print(\"Tổng: \"+str(sum))\n",
        "List.sort()\n",
        "# print(L)\n",
        "positive = 0\n",
        "nagative = 0\n",
        "for j in List:\n",
        "  if j < 0:\n",
        "    nagative = nagative +1\n",
        "  elif j > 0:\n",
        "    positive = positive + 1\n",
        "print(\"Số số dương là :  \" + str(positive))\n",
        "print(\"Số số âm là \" + str(nagative))"
      ],
      "metadata": {
        "colab": {
          "base_uri": "https://localhost:8080/"
        },
        "id": "TLI1QGw1ijEw",
        "outputId": "850a64f3-d624-4e09-e86f-0fb187013112"
      },
      "execution_count": null,
      "outputs": [
        {
          "output_type": "stream",
          "name": "stdout",
          "text": [
            "n = 3\n",
            "0 =9\n",
            "1 =-1\n",
            "2 =3\n",
            "[9, -1, 3]\n",
            "Số lớn nhất: 9\n",
            "Số bé nhất: -1\n",
            "Tổng: 11\n",
            "Số số dương là :  2\n",
            "Số số âm là 1\n"
          ]
        }
      ]
    },
    {
      "cell_type": "markdown",
      "source": [
        "Task 1.2"
      ],
      "metadata": {
        "id": "lxWj09LcjLZ1"
      }
    },
    {
      "cell_type": "code",
      "source": [
        "def sn(n):\n",
        "  sn = 0\n",
        "  for i in range(n):\n",
        "    sn += 1/(2*i+1)\n",
        "  print(sn)\n",
        "sn(int(input(\"n = \")))"
      ],
      "metadata": {
        "colab": {
          "base_uri": "https://localhost:8080/"
        },
        "id": "1yqyrHo2jM0M",
        "outputId": "d5865497-b9d0-4ac0-c021-8e5c20b2c282"
      },
      "execution_count": null,
      "outputs": [
        {
          "output_type": "stream",
          "name": "stdout",
          "text": [
            "n = 6\n",
            "1.878210678210678\n"
          ]
        }
      ]
    },
    {
      "cell_type": "markdown",
      "source": [
        "Task 1.3"
      ],
      "metadata": {
        "id": "bPoxEx50jUFH"
      }
    },
    {
      "cell_type": "code",
      "source": [
        "from IPython.core.display import Math\n",
        "import datetime as date\n",
        "from abc import ABC, abstractmethod\n",
        "import numpy as np\n",
        "class Product(ABC):\n",
        "  def __init__(self, name, kind ,price, expiredDate):\n",
        "    self._name = name\n",
        "    self._kind = kind\n",
        "    self._price = price\n",
        "class ImportedProduct(Product):\n",
        "  def __init__(self,name, kind ,price, expiredDate, fromCountry):\n",
        "    super().__init__(name, kind ,price, expiredDate)\n",
        "    self._fromCountry = fromCountry\n",
        "class DomesticProduct(Product):\n",
        "  def __init__(self,name, kind ,price, expiredDate):\n",
        "    super().__init__(name, kind ,price, expiredDate)\n",
        "class OderItem:\n",
        "  def __init__(self, item, amount):\n",
        "    self.item = item\n",
        "    self.amount = amount\n",
        "class Oder:\n",
        "  def __init__(self, id, customer, employee, date, items):\n",
        "    self.id = id\n",
        "    self.customer = customer\n",
        "    self.employee = employee\n",
        "    self.date = date\n",
        "    self.items = items\n",
        "class OderMananger:\n",
        "  def __init__(self,oders):\n",
        "    self.oders = oders\n",
        "  def _highestPrice(self):\n",
        "    max = 0\n",
        "    for oder in self.oders:\n",
        "      for item in oder.items:\n",
        "        if item.item._price > max:\n",
        "          max = item.item._price\n",
        "    return max\n",
        "  def _numProductBoughtByType(self,kind):\n",
        "    count = 0\n",
        "    for oder in self.oders:\n",
        "      for item in oder.items:\n",
        "        if item.item._kind == kind:\n",
        "          count+= item.amount\n",
        "    return count\n",
        "p1 = ImportedProduct('ca phe', 'den', 10000, date.date(2023,5,20),'America')\n",
        "p2 = ImportedProduct('ca phe', 'sua', 20000, date.date(2023,5,19), 'China')\n",
        "p3 = DomesticProduct('tra', 'dao', 25000, date.date(2023,5,20))\n",
        "p4 = DomesticProduct('tra', 'tac', 20000, date.date(2023,5,19))\n",
        "odi1 = OderItem(p1, 2)\n",
        "odi2 = OderItem(p2, 3)\n",
        "odi3 = OderItem(p3, 1)\n",
        "odi4 = OderItem(p4, 4)\n",
        "list1 = [odi1, odi2]\n",
        "list2 = [odi3, odi4]\n",
        "od1 = Oder('kh1','Do Minh Phu', 'Nguyen Van A', date.date(2023, 2, 20), list1)\n",
        "od2 = Oder('kh2','Doo Mink Fus', 'Nguyen Van B', date.date(2023, 2, 19), list2)\n",
        "listoder = [od1, od2]\n",
        "oderManger = OderMananger(listoder)\n",
        "print(oderManger._highestPrice())\n",
        "print(oderManger._numProductBoughtByType('den'))\n",
        "print(p1._fromCountry)"
      ],
      "metadata": {
        "colab": {
          "base_uri": "https://localhost:8080/"
        },
        "id": "gXY1cxuoji2k",
        "outputId": "0e15a287-5610-4268-b450-91a192f30619"
      },
      "execution_count": null,
      "outputs": [
        {
          "output_type": "stream",
          "name": "stdout",
          "text": [
            "25000\n",
            "2\n",
            "America\n"
          ]
        }
      ]
    },
    {
      "cell_type": "markdown",
      "source": [
        "Task 2.1"
      ],
      "metadata": {
        "id": "z0OgoQz8j0mK"
      }
    },
    {
      "cell_type": "code",
      "source": [
        "arr = np.arange(10,26)\n",
        "arr2 = arr[::-1]\n",
        "print(arr2)"
      ],
      "metadata": {
        "colab": {
          "base_uri": "https://localhost:8080/"
        },
        "id": "R7uFtUC7j2Ox",
        "outputId": "2d37c1a1-3c53-48f9-be60-b096fe18459e"
      },
      "execution_count": null,
      "outputs": [
        {
          "output_type": "stream",
          "name": "stdout",
          "text": [
            "[25 24 23 22 21 20 19 18 17 16 15 14 13 12 11 10]\n"
          ]
        }
      ]
    },
    {
      "cell_type": "markdown",
      "source": [
        "Task 2.2"
      ],
      "metadata": {
        "id": "MevHzxJ7j9i1"
      }
    },
    {
      "cell_type": "code",
      "source": [
        "def _repeat(array):\n",
        "  n = int(input(\"n = \"))\n",
        "  arr1 = np.copy(array)\n",
        "  for i in range(n-1):\n",
        "    arr2 = np.copy(arr1)\n",
        "    array = np.concatenate((array,arr2),axis = 0)\n",
        "  return array\n",
        "print(_repeat(np.array([1,2,3,4])))"
      ],
      "metadata": {
        "colab": {
          "base_uri": "https://localhost:8080/"
        },
        "id": "ueAI3DyKj-qT",
        "outputId": "4589195f-0b48-4e5a-9889-d887ad0409c0"
      },
      "execution_count": null,
      "outputs": [
        {
          "output_type": "stream",
          "name": "stdout",
          "text": [
            "n = 3\n",
            "[1 2 3 4 1 2 3 4 1 2 3 4]\n"
          ]
        }
      ]
    },
    {
      "cell_type": "markdown",
      "source": [
        "Task 3.3"
      ],
      "metadata": {
        "id": "0wvzA57nkHlB"
      }
    },
    {
      "cell_type": "code",
      "source": [
        "def replace(list):\n",
        "  for i in range(len(list)):\n",
        "    for j in range(len(list[i])):\n",
        "      if list[i,j] > 0.5:\n",
        "        list[i,j] = 0.5\n",
        "  print(list)\n",
        "list = np.array([[ 0.42, 0.48, 0.32],\n",
        "[ 0.74, 0.58, 0.38],\n",
        "[ 0.51, 0.34, 0.15 ]])\n",
        "replace(list)"
      ],
      "metadata": {
        "colab": {
          "base_uri": "https://localhost:8080/"
        },
        "id": "wRQ8ECZEkI1r",
        "outputId": "d4b8ceed-c8fa-40d5-84a5-07d56c89d71a"
      },
      "execution_count": null,
      "outputs": [
        {
          "output_type": "stream",
          "name": "stdout",
          "text": [
            "[[0.42 0.48 0.32]\n",
            " [0.5  0.5  0.38]\n",
            " [0.5  0.34 0.15]]\n"
          ]
        }
      ]
    }
  ]
}