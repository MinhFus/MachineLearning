{
  "nbformat": 4,
  "nbformat_minor": 0,
  "metadata": {
    "colab": {
      "provenance": [],
      "include_colab_link": true
    },
    "kernelspec": {
      "name": "python3",
      "display_name": "Python 3"
    },
    "language_info": {
      "name": "python"
    }
  },
  "cells": [
    {
      "cell_type": "markdown",
      "metadata": {
        "id": "view-in-github",
        "colab_type": "text"
      },
      "source": [
        "<a href=\"https://colab.research.google.com/github/MinhFus/MachineLearning/blob/main/Lab_5_mssv_HoTen.ipynb\" target=\"_parent\"><img src=\"https://colab.research.google.com/assets/colab-badge.svg\" alt=\"Open In Colab\"/></a>"
      ]
    },
    {
      "cell_type": "markdown",
      "source": [
        "# This lab is to deal with **SVM** to classification tasks and compare its performance with other competitive algorithms. In general, **SVM** is one of the most popular and widely used supervised machine learning algorithms.\n",
        "\n",
        "*   **Deadline: 23:59, 17/03/2023**\n",
        "\n"
      ],
      "metadata": {
        "id": "LMzehe0sy5wr"
      }
    },
    {
      "cell_type": "markdown",
      "source": [
        "# Import libraries"
      ],
      "metadata": {
        "id": "H4nJmxp9zGX4"
      }
    },
    {
      "cell_type": "code",
      "execution_count": 36,
      "metadata": {
        "id": "DoVWQ8AEyc-C"
      },
      "outputs": [],
      "source": [
        "# code\n",
        "from sklearn import datasets\n",
        "from sklearn import svm\n",
        "from sklearn.linear_model import LogisticRegression\n",
        "from sklearn.model_selection import train_test_split\n",
        "from sklearn import metrics\n",
        "from prettytable import PrettyTable\n",
        "from sklearn.neighbors import KNeighborsClassifier\n",
        "from sklearn.tree import DecisionTreeClassifier"
      ]
    },
    {
      "cell_type": "markdown",
      "source": [
        "#Task 1. \n",
        "For breast cancer dataset (https://tinyurl.com/3vme8hr3) which could be loaded from datasets in sklearn as follows:\n",
        "\n",
        "```\n",
        "#Import scikit-learn dataset library\n",
        "from sklearn import datasets\n",
        "\n",
        "#Load dataset\n",
        "cancer = datasets.load_breast_cancer()\n",
        "```\n",
        "\n",
        "*   1.1.\tApply SVM algorithm to above dataset using linear kernel.\n",
        "*   1.2.\tCompare the obtained results with other competitive algorithms (Logistic Regression, Decision Tree, kNN) based on metrics: accuracy, precision, recall, f1 measures.\n",
        "\n"
      ],
      "metadata": {
        "id": "kNv07ARGzOUm"
      }
    },
    {
      "cell_type": "code",
      "source": [
        "from os import access\n",
        "# code\n",
        "cancer = datasets.load_breast_cancer()\n",
        "x = cancer['data']\n",
        "y = cancer['target']\n",
        "clf = LogisticRegression(random_state = 0) \n",
        "X_train, X_test, Y_train, Y_test = train_test_split(x,y, test_size = 0.3,random_state=100)\n",
        "\n",
        "# Linear\n",
        "clf = svm.SVC(kernel='linear')\n",
        "clf.fit(X_train, Y_train)\n",
        "y_pred = clf.predict(X_test)\n",
        "\n",
        "aces_LN = metrics.accuracy_score(Y_test, y_pred)\n",
        "precision_LN = metrics.precision_score(Y_test, y_pred, average='macro')\n",
        "recall_LN = metrics.recall_score(Y_test, y_pred, average='macro')\n",
        "f1_LN = metrics.f1_score(Y_test, y_pred, average='macro')\n",
        "\n",
        "# Decision Tree\n",
        "clf_model = DecisionTreeClassifier(criterion=\"gini\", random_state=42,\n",
        "max_depth=3, min_samples_leaf=5)\n",
        "clf_model.fit(X_train,Y_train)\n",
        "y_pred_DT = clf_model.predict(X_test)\n",
        "\n",
        "aces_DT = metrics.accuracy_score(Y_test, y_pred_DT)\n",
        "precision_DT = metrics.precision_score(Y_test, y_pred_DT, average='macro')\n",
        "recall_DT = metrics.recall_score(Y_test, y_pred_DT, average='macro')\n",
        "f1_DT = metrics.f1_score(Y_test, y_pred_DT, average='macro')\n",
        "\n",
        "# Logistic Regression\n",
        "classifier = LogisticRegression(random_state = 0) \n",
        "classifier.fit(X_train, Y_train)\n",
        "y_pred_LR = classifier.predict(X_test)\n",
        "\n",
        "aces_LR = metrics.accuracy_score(Y_test, y_pred_LR)\n",
        "precision_LR = metrics.precision_score(Y_test, y_pred_LR, average='macro')\n",
        "recall_LR = metrics.recall_score(Y_test, y_pred_LR, average='macro')\n",
        "f1_LR = metrics.f1_score(Y_test, y_pred_LR, average='macro')\n",
        "\n",
        "# kNN\n",
        "kNN = KNeighborsClassifier(n_neighbors = 5)\n",
        "kNN.fit(X_train,Y_train)\n",
        "y_pred_kNN = kNN.predict(X_test)\n",
        "\n",
        "aces_kNN = metrics.accuracy_score(Y_test, y_pred_kNN)\n",
        "precision_kNN = metrics.precision_score(Y_test, y_pred_kNN, average='macro')\n",
        "recall_kNN = metrics.recall_score(Y_test, y_pred_kNN, average='macro')\n",
        "f1_kNN = metrics.f1_score(Y_test, y_pred_kNN, average='macro')\n",
        "\n",
        "\n",
        "t = PrettyTable([\"\",\"Accuracy\", \"Precision\", \"Recall\", \"F1\"])\n",
        "t.add_row([\"Linear Kernel\",round(aces_LN,3),round(precision_LN,3), round(recall_LN,3), round(f1_LN,3)])\n",
        "t.add_row([\"Decision Tree\",round(aces_DT,3),round(precision_DT,3), round(recall_DT,3), round(f1_DT,3)])\n",
        "t.add_row([\"Logistic Regression\",round(aces_LR,3),round(precision_LR,3), round(recall_LR,3), round(f1_LR,3)])\n",
        "t.add_row([\"kNN\",round(aces_kNN,3),round(precision_kNN,3), round(recall_kNN,3), round(f1_kNN,3)])\n",
        "print(t)\n"
      ],
      "metadata": {
        "id": "sOsg77IBzEyo",
        "colab": {
          "base_uri": "https://localhost:8080/",
          "height": 404
        },
        "outputId": "42c1665b-61c2-4cec-9e9f-25c07a08e0a2"
      },
      "execution_count": 56,
      "outputs": [
        {
          "output_type": "stream",
          "name": "stdout",
          "text": [
            "+---------------------+----------+-----------+--------+-------+\n",
            "|                     | Accuracy | Precision | Recall |   F1  |\n",
            "+---------------------+----------+-----------+--------+-------+\n",
            "|    Linear Kernel    |  0.953   |   0.954   | 0.949  | 0.951 |\n",
            "|    Decision Tree    |  0.947   |   0.952   | 0.939  | 0.945 |\n",
            "| Logistic Regression |  0.947   |   0.946   | 0.944  | 0.945 |\n",
            "|         kNN         |  0.942   |   0.939   | 0.939  | 0.939 |\n",
            "+---------------------+----------+-----------+--------+-------+\n"
          ]
        },
        {
          "output_type": "stream",
          "name": "stderr",
          "text": [
            "/usr/local/lib/python3.9/dist-packages/sklearn/linear_model/_logistic.py:458: ConvergenceWarning: lbfgs failed to converge (status=1):\n",
            "STOP: TOTAL NO. of ITERATIONS REACHED LIMIT.\n",
            "\n",
            "Increase the number of iterations (max_iter) or scale the data as shown in:\n",
            "    https://scikit-learn.org/stable/modules/preprocessing.html\n",
            "Please also refer to the documentation for alternative solver options:\n",
            "    https://scikit-learn.org/stable/modules/linear_model.html#logistic-regression\n",
            "  n_iter_i = _check_optimize_result(\n"
          ]
        },
        {
          "output_type": "execute_result",
          "data": {
            "text/plain": [
              "+---------------------+----------+-----------+--------+-------+\n",
              "|                     | Accuracy | Precision | Recall |   F1  |\n",
              "+---------------------+----------+-----------+--------+-------+\n",
              "|    Linear Kernel    |  0.953   |   0.954   | 0.949  | 0.951 |\n",
              "|    Decision Tree    |  0.947   |   0.952   | 0.939  | 0.945 |\n",
              "| Logistic Regression |  0.947   |   0.946   | 0.944  | 0.945 |\n",
              "|         kNN         |  0.942   |   0.939   | 0.939  | 0.939 |\n",
              "+---------------------+----------+-----------+--------+-------+"
            ],
            "text/html": [
              "<table>\n",
              "    <thead>\n",
              "        <tr>\n",
              "            <th></th>\n",
              "            <th>Accuracy</th>\n",
              "            <th>Precision</th>\n",
              "            <th>Recall</th>\n",
              "            <th>F1</th>\n",
              "        </tr>\n",
              "    </thead>\n",
              "    <tbody>\n",
              "        <tr>\n",
              "            <td>Linear Kernel</td>\n",
              "            <td>0.953</td>\n",
              "            <td>0.954</td>\n",
              "            <td>0.949</td>\n",
              "            <td>0.951</td>\n",
              "        </tr>\n",
              "        <tr>\n",
              "            <td>Decision Tree</td>\n",
              "            <td>0.947</td>\n",
              "            <td>0.952</td>\n",
              "            <td>0.939</td>\n",
              "            <td>0.945</td>\n",
              "        </tr>\n",
              "        <tr>\n",
              "            <td>Logistic Regression</td>\n",
              "            <td>0.947</td>\n",
              "            <td>0.946</td>\n",
              "            <td>0.944</td>\n",
              "            <td>0.945</td>\n",
              "        </tr>\n",
              "        <tr>\n",
              "            <td>kNN</td>\n",
              "            <td>0.942</td>\n",
              "            <td>0.939</td>\n",
              "            <td>0.939</td>\n",
              "            <td>0.939</td>\n",
              "        </tr>\n",
              "    </tbody>\n",
              "</table>"
            ]
          },
          "metadata": {},
          "execution_count": 56
        }
      ]
    },
    {
      "cell_type": "markdown",
      "source": [
        "#Task 2. \n",
        "\n",
        "*   1.1.\tPerform SVM algorithm to **Iris dataset** using **linear kernel**.\n",
        "*   1.2.\tCompare the obtained results in 1.1 with SVM using other kernels (**Polynomial Kernel, Gaussian Kernel, Sigmoid Kernel, Radial Basis Function Kernel**). Some metrics could be used: accuracy, precision, recall, f1 measures\n",
        "\n",
        "\n",
        "\n"
      ],
      "metadata": {
        "id": "S43IoUT-0OQq"
      }
    },
    {
      "cell_type": "code",
      "source": [
        "# code"
      ],
      "metadata": {
        "id": "_xhPpF5b033h"
      },
      "execution_count": null,
      "outputs": []
    },
    {
      "cell_type": "markdown",
      "source": [
        "#Task 3. \n",
        "Compare the performance of selected classification algorithms (Decision Tree, kNN, Logistic Regression) and SVM (using different kernels) with mnist dataset based on accuracy, precision, recall, f1 measures.\n"
      ],
      "metadata": {
        "id": "b52OPWPD2afi"
      }
    },
    {
      "cell_type": "markdown",
      "source": [
        "#Task 4. \n",
        "Compare the performance of selected classification algorithms (Decision Tree, kNN, Logistic Regression) and SVM (using different kernels) with **credit card dataset** based on accuracy, precision, recall, f1 measures.\n",
        "\n",
        "*   Give some comments on the obtained results\n",
        "*   Identify issues with dataset, and propose the solutions to these issues\n",
        "\n"
      ],
      "metadata": {
        "id": "Z5pp7_h-aP2u"
      }
    },
    {
      "cell_type": "code",
      "source": [
        "# code"
      ],
      "metadata": {
        "id": "Rw_-8FIf2KxW"
      },
      "execution_count": null,
      "outputs": []
    },
    {
      "cell_type": "markdown",
      "source": [
        "#Finally,\n",
        "Save a copy in your Github. Remember renaming the notebook."
      ],
      "metadata": {
        "id": "Ok7RGkea_b7n"
      }
    }
  ]
}