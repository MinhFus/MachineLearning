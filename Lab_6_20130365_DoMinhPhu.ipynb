{
  "nbformat": 4,
  "nbformat_minor": 0,
  "metadata": {
    "colab": {
      "provenance": [],
      "include_colab_link": true
    },
    "kernelspec": {
      "name": "python3",
      "display_name": "Python 3"
    },
    "language_info": {
      "name": "python"
    }
  },
  "cells": [
    {
      "cell_type": "markdown",
      "metadata": {
        "id": "view-in-github",
        "colab_type": "text"
      },
      "source": [
        "<a href=\"https://colab.research.google.com/github/MinhFus/MachineLearning/blob/main/Lab_6_20130365_DoMinhPhu.ipynb\" target=\"_parent\"><img src=\"https://colab.research.google.com/assets/colab-badge.svg\" alt=\"Open In Colab\"/></a>"
      ]
    },
    {
      "cell_type": "markdown",
      "source": [
        "# This lab is to deal with classification task using **Random Forests** and **Naïve Bayes** algorithms with/without **Feature Selection**. \n",
        "\n",
        "*   **Deadline: 23:59, 25/03/2023**\n",
        "\n"
      ],
      "metadata": {
        "id": "LMzehe0sy5wr"
      }
    },
    {
      "cell_type": "markdown",
      "source": [
        "# Import libraries"
      ],
      "metadata": {
        "id": "H4nJmxp9zGX4"
      }
    },
    {
      "cell_type": "code",
      "execution_count": 102,
      "metadata": {
        "id": "DoVWQ8AEyc-C"
      },
      "outputs": [],
      "source": [
        "# code\n",
        "import numpy as np\n",
        "import pandas as pd\n",
        "from sklearn import svm\n",
        "from sklearn import metrics\n",
        "from sklearn import datasets\n",
        "import matplotlib.pyplot as plt\n",
        "\n",
        "import seaborn as sns\n",
        "from sklearn.naive_bayes import GaussianNB\n",
        "from sklearn.tree import DecisionTreeClassifier\n",
        "from sklearn.feature_selection import SelectKBest\n",
        "from sklearn.neighbors import KNeighborsClassifier\n",
        "from sklearn.ensemble import RandomForestClassifier\n",
        "from sklearn.linear_model import LogisticRegression\n",
        "\n",
        "from prettytable import PrettyTable\n",
        "from sklearn.preprocessing import StandardScaler\n",
        "from sklearn.preprocessing import OneHotEncoder\n",
        "from sklearn.model_selection import train_test_split"
      ]
    },
    {
      "cell_type": "markdown",
      "source": [
        "# Import Drive"
      ],
      "metadata": {
        "id": "CtyGBwRzzF9Y"
      }
    },
    {
      "cell_type": "code",
      "source": [
        "from google.colab import drive\n",
        "drive.mount('/content/gdrive')\n",
        "%cd '/content/gdrive/MyDrive/NLU/MayHoc/BaiTap'"
      ],
      "metadata": {
        "colab": {
          "base_uri": "https://localhost:8080/"
        },
        "id": "l0UpfvFdzbJO",
        "outputId": "52c4c742-2b2d-4339-c509-f7d00ead87e9"
      },
      "execution_count": 103,
      "outputs": [
        {
          "output_type": "stream",
          "name": "stdout",
          "text": [
            "Drive already mounted at /content/gdrive; to attempt to forcibly remount, call drive.mount(\"/content/gdrive\", force_remount=True).\n",
            "/content/gdrive/MyDrive/NLU/MayHoc/BaiTap\n"
          ]
        }
      ]
    },
    {
      "cell_type": "markdown",
      "source": [
        "#Task 1. \n",
        "Task 1. Compare the performance of selected classification algorithms including **Random forest**, **NaiveBayes**, and **SVM** with **mnist** dataset based on **accuracy, precision, recall, f1** measures according to **without using selection feature** and **using selection feature**.\n",
        "\n"
      ],
      "metadata": {
        "id": "kNv07ARGzOUm"
      }
    },
    {
      "cell_type": "code",
      "source": [
        "# code\n",
        "mnist = datasets.load_digits(as_frame=True)\n",
        "x_task1 = mnist.data\n",
        "y_task1= mnist.target"
      ],
      "metadata": {
        "id": "sOsg77IBzEyo"
      },
      "execution_count": null,
      "outputs": []
    },
    {
      "cell_type": "markdown",
      "source": [
        "# Without using selection feature"
      ],
      "metadata": {
        "id": "icGTQa9-lwgL"
      }
    },
    {
      "cell_type": "code",
      "source": [
        "# code\n",
        "X_train, X_test, Y_train, Y_test = train_test_split(x_task1,y_task1, test_size = 0.3, train_size=0.7,random_state=1)"
      ],
      "metadata": {
        "id": "FQyVZbeMoeGH"
      },
      "execution_count": null,
      "outputs": []
    },
    {
      "cell_type": "code",
      "source": [
        "# Random Forest without using selection feature\n",
        "rf_w = RandomForestClassifier(n_estimators=100)\n",
        "rf_w.fit(X_train, Y_train)\n",
        "y_pred_rf_w = rf_w.predict(X_test)\n",
        "\n",
        "aces_RF_w = round(metrics.accuracy_score(Y_test, y_pred_rf_w),4)\n",
        "precision_RF_w = round(metrics.precision_score(Y_test, y_pred_rf_w, average='macro'),4)\n",
        "recall_RF_w = round(metrics.recall_score(Y_test, y_pred_rf_w, average='macro'),4)\n",
        "f1_RF_w = round(metrics.f1_score(Y_test, y_pred_rf_w, average='macro'),4)"
      ],
      "metadata": {
        "id": "bQzd-Sm6FSQ2"
      },
      "execution_count": null,
      "outputs": []
    },
    {
      "cell_type": "code",
      "source": [
        "# NaiveBayes without using selection feature\n",
        "nb_w = GaussianNB()\n",
        "nb_w.fit(X_train, Y_train)\n",
        "y_pred_NB_w = nb_w.predict(X_test)\n",
        "\n",
        "aces_NB_w = round(metrics.accuracy_score(Y_test, y_pred_NB_w),4)\n",
        "precision_NB_w =round(metrics.precision_score(Y_test, y_pred_NB_w, average='macro'),4)\n",
        "recall_NB_w = round(metrics.recall_score(Y_test, y_pred_NB_w, average='macro'),4)\n",
        "f1_NB_w = round(metrics.f1_score(Y_test, y_pred_NB_w, average='macro'),4)"
      ],
      "metadata": {
        "id": "dy6z4ugbSpdq"
      },
      "execution_count": null,
      "outputs": []
    },
    {
      "cell_type": "code",
      "source": [
        "# Suport Vector Machine \n",
        "# Linear Kernel without using selection feature\n",
        "smv_ln_w = svm.SVC(kernel='linear')\n",
        "smv_ln_w.fit(X_train, Y_train)\n",
        "y_pred_ln_w = smv_ln_w.predict(X_test)\n",
        "\n",
        "aces_LN_w = round(metrics.accuracy_score(Y_test, y_pred_ln_w),4)\n",
        "precision_LN_w = round(metrics.precision_score(Y_test, y_pred_ln_w, average='macro'),4)\n",
        "recall_LN_w = round(metrics.recall_score(Y_test, y_pred_ln_w, average='macro'),4)\n",
        "f1_LN_w = round(metrics.f1_score(Y_test, y_pred_ln_w, average='macro'),4)"
      ],
      "metadata": {
        "id": "uOP0tEnQ9WJr"
      },
      "execution_count": null,
      "outputs": []
    },
    {
      "cell_type": "markdown",
      "source": [
        "# Using selection feature\n",
        "\n"
      ],
      "metadata": {
        "id": "fvFpdaZFmWMy"
      }
    },
    {
      "cell_type": "code",
      "source": [
        "# code\n",
        "clf = RandomForestClassifier(n_estimators=100)\n",
        "clf.fit(x_task1,y_task1)\n",
        "feature_imp = pd.Series(clf.feature_importances_, index= mnist.feature_names).sort_values(ascending=False)\n",
        "\n",
        "# feature_imp\n",
        "sns.barplot(x=feature_imp, y=feature_imp.index)\n",
        "plt.xlabel('Feature Importance Score')\n",
        "plt.ylabel('Features')\n",
        "plt.title(\"Visualizing Important Features\")\n",
        "plt.legend()\n",
        "plt.show()\n",
        "\n",
        "features = feature_imp.index[0:4].values\n",
        "X_new = x_task1[feature_imp.index[0:4]]\n",
        "\n",
        "X_train_new, X_test_new, Y_train_new, Y_test_new = train_test_split(X_new,y_task1, test_size = 0.3, train_size=0.7,random_state=1)"
      ],
      "metadata": {
        "colab": {
          "base_uri": "https://localhost:8080/",
          "height": 313
        },
        "id": "6xTSjpPbmgdu",
        "outputId": "3202119d-c077-4d56-bd80-8f727edee5d4"
      },
      "execution_count": null,
      "outputs": [
        {
          "output_type": "stream",
          "name": "stderr",
          "text": [
            "WARNING:matplotlib.legend:No artists with labels found to put in legend.  Note that artists whose label start with an underscore are ignored when legend() is called with no argument.\n"
          ]
        },
        {
          "output_type": "display_data",
          "data": {
            "text/plain": [
              "<Figure size 432x288 with 1 Axes>"
            ],
            "image/png": "[encoded data removed]"
          },
          "metadata": {
            "needs_background": "light"
          }
        }
      ]
    },
    {
      "cell_type": "code",
      "source": [
        "# Random Forest using selection feature\n",
        "rf_u = RandomForestClassifier(n_estimators=100)\n",
        "rf_u.fit(X_train_new, Y_train_new)\n",
        "y_pred_rf_u = rf_u.predict(X_test_new)\n",
        "\n",
        "aces_RF_u = round(metrics.accuracy_score(Y_test_new, y_pred_rf_u),4)\n",
        "precision_RF_u = round(metrics.precision_score(Y_test_new,y_pred_rf_u, average='macro'),4)\n",
        "recall_RF_u = round(metrics.recall_score(Y_test_new, y_pred_rf_u, average='macro'),4)\n",
        "f1_RF_u = round(metrics.f1_score(Y_test_new, y_pred_rf_u, average='macro'),4)"
      ],
      "metadata": {
        "id": "Tws-GVAv0dRI"
      },
      "execution_count": null,
      "outputs": []
    },
    {
      "cell_type": "code",
      "source": [
        "# NaiveBayes using selection feature\n",
        "nb_u = GaussianNB()\n",
        "nb_u.fit(X_train_new, Y_train_new)\n",
        "y_pred_NB_u = nb_u.predict(X_test_new)\n",
        "\n",
        "aces_NB_u = round(metrics.accuracy_score(Y_test_new, y_pred_NB_u),4)\n",
        "precision_NB_u =round(metrics.precision_score(Y_test_new, y_pred_NB_u, average='macro'),4)\n",
        "recall_NB_u = round(metrics.recall_score(Y_test_new, y_pred_NB_u, average='macro'),4)\n",
        "f1_NB_u = round(metrics.f1_score(Y_test_new, y_pred_NB_u, average='macro'),4)"
      ],
      "metadata": {
        "id": "p9B-KxYo2Tkg"
      },
      "execution_count": null,
      "outputs": []
    },
    {
      "cell_type": "code",
      "source": [
        "# Suport Vector Machine \n",
        "# Linear Kernel using selection feature\n",
        "smv_ln_u = svm.SVC(kernel='linear')\n",
        "smv_ln_u.fit(X_train_new, Y_train_new)\n",
        "y_pred_ln_u = smv_ln_u.predict(X_test_new)\n",
        "\n",
        "aces_LN_u = round(metrics.accuracy_score(Y_test_new, y_pred_ln_u),4)\n",
        "precision_LN_u = round(metrics.precision_score(Y_test_new, y_pred_ln_u, average='macro'),4)\n",
        "recall_LN_u = round(metrics.recall_score(Y_test_new, y_pred_ln_u, average='macro'),4)\n",
        "f1_LN_u = round(metrics.f1_score(Y_test_new, y_pred_ln_u, average='macro'),4)"
      ],
      "metadata": {
        "id": "PD6Bkq-8WLGk"
      },
      "execution_count": null,
      "outputs": []
    },
    {
      "cell_type": "markdown",
      "source": [
        "# Compare without using and using"
      ],
      "metadata": {
        "id": "w0mdGjc2QELE"
      }
    },
    {
      "cell_type": "code",
      "source": [
        "table_w = PrettyTable([\"\",\"Accuracy\", \"Precision\", \"Recall\", \"F1\"])\n",
        "table_u = PrettyTable([\"\",\"Accuracy\", \"Precision\", \"Recall\", \"F1\"])\n",
        "\n",
        "table_w.add_row([\"Random Forest \",aces_RF_w,precision_RF_w,recall_RF_w,f1_RF_w])\n",
        "table_w.add_row([\"NaiveBayes \",aces_NB_w,precision_NB_w,recall_NB_w,f1_NB_w])\n",
        "table_w.add_row([\"Suport Vector Machine \",aces_LN_w,precision_LN_w,recall_LN_w,f1_LN_w])\n",
        "\n",
        "table_u.add_row([\"Random Forest \",aces_RF_u,precision_RF_u,recall_RF_u,f1_RF_u])\n",
        "table_u.add_row([\"NaiveBayes \",aces_NB_u,precision_NB_u,recall_NB_u,f1_NB_u])\n",
        "table_u.add_row([\"Suport Vector Machine \",aces_LN_u,precision_LN_u,recall_LN_u,f1_LN_u])\n",
        "\n",
        "print('Without using selection feature')\n",
        "print(table_w)\n",
        "print()\n",
        "print('Using selection feature')\n",
        "print(table_u)"
      ],
      "metadata": {
        "colab": {
          "base_uri": "https://localhost:8080/"
        },
        "id": "iPZwaMQ71wiQ",
        "outputId": "07b42fc3-8a2f-469d-e942-e3ecd9e890bb"
      },
      "execution_count": null,
      "outputs": [
        {
          "output_type": "stream",
          "name": "stdout",
          "text": [
            "Without using selection feature\n",
            "+------------------------+----------+-----------+--------+--------+\n",
            "|                        | Accuracy | Precision | Recall |   F1   |\n",
            "+------------------------+----------+-----------+--------+--------+\n",
            "|     Random Forest      |  0.9815  |   0.981   | 0.9828 | 0.9816 |\n",
            "|      NaiveBayes        |  0.8315  |   0.8564  | 0.8298 | 0.8292 |\n",
            "| Suport Vector Machine  |  0.9815  |   0.9809  | 0.9811 | 0.981  |\n",
            "+------------------------+----------+-----------+--------+--------+\n",
            "\n",
            "Using selection feature\n",
            "+------------------------+----------+-----------+--------+--------+\n",
            "|                        | Accuracy | Precision | Recall |   F1   |\n",
            "+------------------------+----------+-----------+--------+--------+\n",
            "|     Random Forest      |  0.6352  |   0.6392  | 0.6362 | 0.6326 |\n",
            "|      NaiveBayes        |  0.6148  |   0.5876  | 0.6126 | 0.5734 |\n",
            "| Suport Vector Machine  |  0.6333  |   0.616   | 0.6297 | 0.6123 |\n",
            "+------------------------+----------+-----------+--------+--------+\n"
          ]
        }
      ]
    },
    {
      "cell_type": "markdown",
      "source": [
        "#Task 2. \n",
        "For given bank dataset (bank.csv) having the following attributes :\n",
        "1.\t**age** (numeric)\n",
        "2.\t**job** : type of job (categorical: 'admin.','blue-collar','entrepreneur','housemaid','management','retired','self-employed','services','student','technician','unemployed','unknown')\n",
        "3.\t**marital** : marital status (categorical: 'divorced','married','single','unknown'; note: 'divorced' means divorced or widowed)\n",
        "4.\t**education** (categorical: 'basic.4y','basic.6y','basic.9y','high.school','illiterate','professional.course','university.degree','unknown')\n",
        "5.\t**default**: has credit in default? (categorical: 'no','yes','unknown')\n",
        "6.\t**housing**: has housing loan? (categorical: 'no','yes','unknown')\n",
        "7.\t**loan**: has personal loan? (categorical: 'no','yes','unknown')\n",
        "8.\t**contact**: contact communication type (categorical: 'cellular','telephone')\n",
        "9.\t**month**: last contact month of year (categorical: 'jan', 'feb', 'mar', ..., 'nov', 'dec')\n",
        "10.\t**day_of_week**: last contact day of the week (categorical: 'mon','tue','wed','thu','fri')\n",
        "11.\t**duration**: last contact duration, in seconds (numeric). Important note: this attribute highly affects the output target (e.g., if duration=0 then y='no'). Yet, the duration is not known before a call is performed. Also, after the end of the call y is obviously known. Thus, this input should only be included for benchmark purposes and should be discarded if the intention is to have a realistic predictive model.\n",
        "12.\t**campaign**: number of contacts performed during this campaign and for this client (numeric, includes last contact)\n",
        "13.\t**pdays**: number of days that passed by after the client was last contacted from a previous campaign (numeric; 999 means client was not previously contacted)\n",
        "14.\t**previous**: number of contacts performed before this campaign and for this client (numeric)\n",
        "15.\t**poutcome**: outcome of the previous marketing campaign (categorical: 'failure','nonexistent','success')\n",
        "Output variable (desired target):\n",
        "16.\t**y**. has the client subscribed a term deposit? (binary: 'yes','no')\n",
        "\n"
      ],
      "metadata": {
        "id": "b52OPWPD2afi"
      }
    },
    {
      "cell_type": "code",
      "source": [
        "df = pd.read_csv('bank.csv')\n",
        "x_task2 =df[['age', 'balance', 'day', 'campaign', 'pdays', 'previous']]\n",
        "x1_task2 =df[[ 'job', 'marital', 'education', 'default', 'housing', 'loan', 'contact', 'month', 'poutcome']]\n",
        "y_task2 = df[[ 'deposit']]\n",
        "# df.columns\n",
        "# print(x_task2)"
      ],
      "metadata": {
        "id": "FlVijJHClkuj"
      },
      "execution_count": null,
      "outputs": []
    },
    {
      "cell_type": "markdown",
      "source": [
        "#2.1. Apply StandardScaler() function to columns that contains numerical data ('age', 'balance', 'day', 'campaign', 'pdays', 'previous')"
      ],
      "metadata": {
        "id": "q89LEvT7dqaZ"
      }
    },
    {
      "cell_type": "code",
      "source": [
        "# StandardScaler\n",
        "object= StandardScaler()\n",
        "scale = object.fit_transform(x_task2)\n",
        "print(scale)"
      ],
      "metadata": {
        "id": "8vx3mfIidu4P",
        "colab": {
          "base_uri": "https://localhost:8080/"
        },
        "outputId": "bc7757dc-1a44-49a2-95be-03a45bae1a28"
      },
      "execution_count": null,
      "outputs": [
        {
          "output_type": "stream",
          "name": "stdout",
          "text": [
            "[[ 1.492  0.253 -1.266 -0.554 -0.481 -0.363]\n",
            " [ 1.24  -0.46  -1.266 -0.554 -0.481 -0.363]\n",
            " [-0.019 -0.08  -1.266 -0.554 -0.481 -0.363]\n",
            " ...\n",
            " [-0.775 -0.465  0.397 -0.187 -0.481 -0.363]\n",
            " [ 0.148 -0.474 -0.909 -0.187  1.11   1.818]\n",
            " [-0.607 -0.474 -0.791 -0.554 -0.481 -0.363]]\n"
          ]
        }
      ]
    },
    {
      "cell_type": "markdown",
      "source": [
        "#2.2. Apply Encode Categorical Value (OneHotEncoder) to transfrom categorical data to numerical data ('job', 'marital', 'education', 'default', 'housing', 'loan', 'contact', 'month', 'poutcome')"
      ],
      "metadata": {
        "id": "r7acR0TxdvY8"
      }
    },
    {
      "cell_type": "code",
      "source": [
        "# Encode Categorica\n",
        "onehot = OneHotEncoder(drop='first',sparse=False,dtype=np.int32)\n",
        "encode = onehot.fit_transform(x1_task2)\n",
        "print(encode.shape)\n",
        "merged = np.hstack((x_task2.values,encode))\n",
        "print(merged.shape)"
      ],
      "metadata": {
        "id": "egtgBmAtd0um",
        "colab": {
          "base_uri": "https://localhost:8080/"
        },
        "outputId": "6a71c7db-baa4-435d-8393-b2fb6b0d559e"
      },
      "execution_count": null,
      "outputs": [
        {
          "output_type": "stream",
          "name": "stdout",
          "text": [
            "(11162, 35)\n",
            "(11162, 41)\n"
          ]
        },
        {
          "output_type": "stream",
          "name": "stderr",
          "text": [
            "/usr/local/lib/python3.9/dist-packages/sklearn/preprocessing/_encoders.py:868: FutureWarning: `sparse` was renamed to `sparse_output` in version 1.2 and will be removed in 1.4. `sparse_output` is ignored unless you leave `sparse` to its default value.\n",
            "  warnings.warn(\n"
          ]
        }
      ]
    },
    {
      "cell_type": "markdown",
      "source": [
        "#2.3. Apply **Decision tree, Random forest, kNN, NaïveBayes** to preproceed dataset in the previous steps. Then compare the obtained results using **accuracy, precision, recall, f1** measures."
      ],
      "metadata": {
        "id": "K2Si6d69d1nh"
      }
    },
    {
      "cell_type": "code",
      "source": [
        "# code\n",
        "X_train_task2, X_test_task2, Y_train_task2, Y_test_task2 = train_test_split(merged, y_task2, test_size = 0.3, train_size=0.7,random_state=1)"
      ],
      "metadata": {
        "id": "1t2FzpnUCnEp"
      },
      "execution_count": null,
      "outputs": []
    },
    {
      "cell_type": "code",
      "source": [
        "# Decision Tree\n",
        "clf_DT = DecisionTreeClassifier(criterion=\"gini\", random_state=42, max_depth=3, min_samples_leaf=5)\n",
        "clf_DT.fit(X_train_task2, Y_train_task2)\n",
        "y_pred_DT = clf_DT.predict(X_test_task2)\n",
        "\n",
        "aces_DT = round(metrics.accuracy_score(Y_test_task2,y_pred_DT),4)\n",
        "precision_DT = round(metrics.precision_score(Y_test_task2, y_pred_DT, average='macro'),4)\n",
        "recall_DT = round(metrics.recall_score(Y_test_task2, y_pred_DT, average='macro'),4)\n",
        "f1_DT = round(metrics.f1_score(Y_test_task2, y_pred_DT, average='macro'),4)"
      ],
      "metadata": {
        "id": "Ouil-cf_d8jW"
      },
      "execution_count": null,
      "outputs": []
    },
    {
      "cell_type": "code",
      "source": [
        "# Random Forest \n",
        "rf_task2 = RandomForestClassifier(n_estimators=100)\n",
        "rf_task2.fit(X_train_task2, Y_train_task2)\n",
        "y_pred_rf_task2 = rf_task2.predict(X_test_task2)\n",
        "\n",
        "aces_RF = round(metrics.accuracy_score(Y_test_task2, y_pred_rf_task2),4)\n",
        "precision_RF = round(metrics.precision_score(Y_test_task2,y_pred_rf_task2, average='macro'),4)\n",
        "recall_RF = round(metrics.recall_score(Y_test_task2, y_pred_rf_task2, average='macro'),4)\n",
        "f1_RF = round(metrics.f1_score(Y_test_task2, y_pred_rf_task2, average='macro'),4)"
      ],
      "metadata": {
        "colab": {
          "base_uri": "https://localhost:8080/"
        },
        "id": "nx9qjQnHF9iA",
        "outputId": "14683994-49e6-4ed1-9ce5-41c04992e05b"
      },
      "execution_count": null,
      "outputs": [
        {
          "output_type": "stream",
          "name": "stderr",
          "text": [
            "<ipython-input-49-e6d33923f1f3>:3: DataConversionWarning: A column-vector y was passed when a 1d array was expected. Please change the shape of y to (n_samples,), for example using ravel().\n",
            "  rf_task2.fit(X_train_task2, Y_train_task2)\n"
          ]
        }
      ]
    },
    {
      "cell_type": "code",
      "source": [
        "# kNN\n",
        "kNN = KNeighborsClassifier(n_neighbors = 5)\n",
        "kNN.fit(X_train_task2, Y_train_task2)\n",
        "y_pred_kNN = kNN.predict(X_test_task2)\n",
        "\n",
        "aces_kNN = round(metrics.accuracy_score(Y_test_task2, y_pred_kNN ),4)\n",
        "precision_kNN = round(metrics.precision_score(Y_test_task2, y_pred_kNN , average='macro'),4)\n",
        "recall_kNN = round(metrics.recall_score(Y_test_task2, y_pred_kNN , average='macro'),4)\n",
        "f1_kNN = round(metrics.f1_score(Y_test_task2, y_pred_kNN , average='macro'),4)"
      ],
      "metadata": {
        "colab": {
          "base_uri": "https://localhost:8080/"
        },
        "id": "BOk2KDXKInHp",
        "outputId": "623b195b-fda8-4827-f95b-5e8b7d0e53b7"
      },
      "execution_count": null,
      "outputs": [
        {
          "output_type": "stream",
          "name": "stderr",
          "text": [
            "/usr/local/lib/python3.9/dist-packages/sklearn/neighbors/_classification.py:215: DataConversionWarning: A column-vector y was passed when a 1d array was expected. Please change the shape of y to (n_samples,), for example using ravel().\n",
            "  return self._fit(X, y)\n"
          ]
        }
      ]
    },
    {
      "cell_type": "code",
      "source": [
        "# NaiveBayes \n",
        "nb_task2 = GaussianNB()\n",
        "nb_task2.fit(X_train_task2, Y_train_task2)\n",
        "y_pred_NB = nb_task2.predict(X_test_task2)\n",
        "\n",
        "aces_NB = round(metrics.accuracy_score(Y_test_task2, y_pred_NB),4)\n",
        "precision_NB =round(metrics.precision_score(Y_test_task2, y_pred_NB, average='macro'),4)\n",
        "recall_NB = round(metrics.recall_score(Y_test_task2, y_pred_NB, average='macro'),4)\n",
        "f1_NB = round(metrics.f1_score(Y_test_task2, y_pred_NB, average='macro'),4)"
      ],
      "metadata": {
        "colab": {
          "base_uri": "https://localhost:8080/"
        },
        "id": "Ro8sPxO-JhRJ",
        "outputId": "6b1bcd3e-1cca-40a7-f73b-0232034d4c99"
      },
      "execution_count": null,
      "outputs": [
        {
          "output_type": "stream",
          "name": "stderr",
          "text": [
            "/usr/local/lib/python3.9/dist-packages/sklearn/utils/validation.py:1143: DataConversionWarning: A column-vector y was passed when a 1d array was expected. Please change the shape of y to (n_samples, ), for example using ravel().\n",
            "  y = column_or_1d(y, warn=True)\n"
          ]
        }
      ]
    },
    {
      "cell_type": "code",
      "source": [
        "table_task2 = PrettyTable([\"\",\"Accuracy\", \"Precision\", \"Recall\", \"F1\"])\n",
        "\n",
        "table_task2.add_row([\"Decision Tree \", aces_DT, precision_DT, recall_DT, f1_DT])\n",
        "table_task2.add_row([\"Random Forest  \",aces_RF, precision_RF, recall_RF, f1_RF])\n",
        "table_task2.add_row([\"KNN  \",aces_kNN, precision_kNN, recall_kNN, f1_kNN])\n",
        "table_task2.add_row([\"NaiveBayes   \",aces_NB, precision_NB, recall_NB, f1_NB])\n",
        "\n",
        "print(table_task2)"
      ],
      "metadata": {
        "colab": {
          "base_uri": "https://localhost:8080/"
        },
        "id": "k2JjNwR-FQ-e",
        "outputId": "e7a9a2d1-4fc4-4e5d-d1c8-6d8ff7b6e50f"
      },
      "execution_count": null,
      "outputs": [
        {
          "output_type": "stream",
          "name": "stdout",
          "text": [
            "+-----------------+----------+-----------+--------+--------+\n",
            "|                 | Accuracy | Precision | Recall |   F1   |\n",
            "+-----------------+----------+-----------+--------+--------+\n",
            "|  Decision Tree  |  0.6411  |   0.6415  | 0.6418 | 0.641  |\n",
            "| Random Forest   |  0.7148  |   0.7181  | 0.7104 | 0.7105 |\n",
            "|      KNN        |   0.59   |   0.5883  | 0.5858 | 0.5847 |\n",
            "|  NaiveBayes     |  0.6808  |   0.7009  | 0.6714 | 0.6648 |\n",
            "+-----------------+----------+-----------+--------+--------+\n"
          ]
        }
      ]
    },
    {
      "cell_type": "markdown",
      "source": [
        "#2.4. Using selection feature to above dataset, then compare the classification results with those in Task 2.3. "
      ],
      "metadata": {
        "id": "SweVRB4meApP"
      }
    },
    {
      "cell_type": "code",
      "source": [
        "# code\n",
        "clf_task2 = RandomForestClassifier(n_estimators=100)\n",
        "lenght = range(0,41)\n",
        "clf_task2.fit(merged,y_task2)\n",
        "feature_imp_task2 = pd.Series(clf.feature_importances_, index= lenght).sort_values(ascending=False)\n",
        "\n",
        "features = feature_imp.index[0:4].values\n",
        "X_task2_new = merged[:,feature_imp.index[0:4]]\n",
        "\n",
        "X_task2_train_new, X_task2_test_new, Y_task2_train_new, Y_task2_test_new = train_test_split(X_task2_new,y_task2, test_size = 0.3, train_size=0.7,random_state=1)\n",
        "print(X_task2_train_new.shape)\n",
        "print(X_task2_test_new.shape)\n",
        "print(Y_task2_train_new.shape)\n",
        "print(Y_task2_test_new.shape)"
      ],
      "metadata": {
        "id": "seFBhqCSeC7C",
        "colab": {
          "base_uri": "https://localhost:8080/"
        },
        "outputId": "a4367a97-2c23-4d21-a030-d13e68415b27"
      },
      "execution_count": null,
      "outputs": [
        {
          "output_type": "stream",
          "name": "stderr",
          "text": [
            "<ipython-input-60-261c7bd976cf>:4: DataConversionWarning: A column-vector y was passed when a 1d array was expected. Please change the shape of y to (n_samples,), for example using ravel().\n",
            "  clf_task2.fit(merged,y_task2)\n"
          ]
        },
        {
          "output_type": "stream",
          "name": "stdout",
          "text": [
            "(7813, 4)\n",
            "(3349, 4)\n",
            "(7813, 1)\n",
            "(3349, 1)\n"
          ]
        }
      ]
    },
    {
      "cell_type": "code",
      "source": [
        "# Decision Tree\n",
        "clf_DT_task2 = DecisionTreeClassifier(criterion=\"gini\", random_state=42, max_depth=3, min_samples_leaf=5)\n",
        "clf_DT_task2.fit(X_task2_train_new, Y_task2_train_new)\n",
        "y_pred_DT_task2 = clf_DT_task2.predict(X_task2_test_new)\n",
        "\n",
        "aces_DT_new = round(metrics.accuracy_score(Y_task2_test_new,y_pred_DT_task2),4)\n",
        "precision_DT_new = round(metrics.precision_score(Y_task2_test_new, y_pred_DT_task2, average='macro'),4)\n",
        "recall_DT_new = round(metrics.recall_score(Y_task2_test_new, y_pred_DT_task2, average='macro'),4)\n",
        "f1_DT_new = round(metrics.f1_score(Y_task2_test_new, y_pred_DT_task2, average='macro'),4)"
      ],
      "metadata": {
        "id": "OhBRv5JXuXzA"
      },
      "execution_count": null,
      "outputs": []
    },
    {
      "cell_type": "code",
      "source": [
        "# Random Forest \n",
        "rf_task2_new = RandomForestClassifier(n_estimators=100)\n",
        "rf_task2_new.fit(X_task2_train_new, Y_task2_train_new)\n",
        "y_pred_rf_task2_new = rf_task2_new.predict(X_task2_test_new)\n",
        "\n",
        "aces_RF_new = round(metrics.accuracy_score(Y_task2_test_new,y_pred_rf_task2_new),4)\n",
        "precision_RF_new = round(metrics.precision_score(Y_task2_test_new,y_pred_rf_task2_new, average='macro'),4)\n",
        "recall_RF_new = round(metrics.recall_score(Y_task2_test_new,y_pred_rf_task2_new, average='macro'),4)\n",
        "f1_RF_new = round(metrics.f1_score(Y_task2_test_new,y_pred_rf_task2_new, average='macro'),4)"
      ],
      "metadata": {
        "colab": {
          "base_uri": "https://localhost:8080/"
        },
        "id": "G6RToXZ7va5i",
        "outputId": "d6358041-79fa-4f28-b28f-3e02cc6eb163"
      },
      "execution_count": null,
      "outputs": [
        {
          "output_type": "stream",
          "name": "stderr",
          "text": [
            "<ipython-input-66-2ae30b6bbbb7>:3: DataConversionWarning: A column-vector y was passed when a 1d array was expected. Please change the shape of y to (n_samples,), for example using ravel().\n",
            "  rf_task2_new.fit(X_task2_train_new, Y_task2_train_new)\n"
          ]
        }
      ]
    },
    {
      "cell_type": "code",
      "source": [
        "# kNN\n",
        "kNN_task2_new = KNeighborsClassifier(n_neighbors = 5)\n",
        "kNN_task2_new.fit(X_task2_train_new, Y_task2_train_new)\n",
        "y_pred_kNN_task2_new = kNN_task2_new.predict(X_task2_test_new)\n",
        "\n",
        "aces_kNN_new = round(metrics.accuracy_score(Y_task2_test_new, y_pred_kNN_task2_new ),4)\n",
        "precision_kNN_new = round(metrics.precision_score(Y_task2_test_new, y_pred_kNN_task2_new, average='macro'),4)\n",
        "recall_kNN_new = round(metrics.recall_score(Y_task2_test_new, y_pred_kNN_task2_new , average='macro'),4)\n",
        "f1_kNN_new = round(metrics.f1_score(Y_task2_test_new, y_pred_kNN_task2_new , average='macro'),4)"
      ],
      "metadata": {
        "colab": {
          "base_uri": "https://localhost:8080/"
        },
        "id": "7AdMAxDNvbD2",
        "outputId": "908773d2-4d6d-4e16-f6ef-c2a41f8364cf"
      },
      "execution_count": null,
      "outputs": [
        {
          "output_type": "stream",
          "name": "stderr",
          "text": [
            "/usr/local/lib/python3.9/dist-packages/sklearn/neighbors/_classification.py:215: DataConversionWarning: A column-vector y was passed when a 1d array was expected. Please change the shape of y to (n_samples,), for example using ravel().\n",
            "  return self._fit(X, y)\n"
          ]
        }
      ]
    },
    {
      "cell_type": "code",
      "source": [
        "# NaiveBayes \n",
        "nb_task2_new = GaussianNB()\n",
        "nb_task2_new.fit(X_task2_train_new, Y_task2_train_new)\n",
        "y_pred_NB_new = nb_task2_new.predict(X_task2_test_new)\n",
        "\n",
        "aces_NB_new = round(metrics.accuracy_score(Y_task2_test_new, y_pred_NB_new),4)\n",
        "precision_NB_new =round(metrics.precision_score(Y_task2_test_new, y_pred_NB_new, average='macro'),4)\n",
        "recall_NB_new = round(metrics.recall_score(Y_task2_test_new, y_pred_NB_new, average='macro'),4)\n",
        "f1_NB_new = round(metrics.f1_score(Y_task2_test_new, y_pred_NB_new, average='macro'),4)"
      ],
      "metadata": {
        "colab": {
          "base_uri": "https://localhost:8080/"
        },
        "id": "V7rvbdimyCpz",
        "outputId": "428debca-a159-438c-d503-e347eb1dc2cc"
      },
      "execution_count": null,
      "outputs": [
        {
          "output_type": "stream",
          "name": "stderr",
          "text": [
            "/usr/local/lib/python3.9/dist-packages/sklearn/utils/validation.py:1143: DataConversionWarning: A column-vector y was passed when a 1d array was expected. Please change the shape of y to (n_samples, ), for example using ravel().\n",
            "  y = column_or_1d(y, warn=True)\n"
          ]
        }
      ]
    },
    {
      "cell_type": "code",
      "source": [
        "table_task2_new = PrettyTable([\"\",\"Accuracy\", \"Precision\", \"Recall\", \"F1\"])\n",
        "\n",
        "table_task2_new.add_row([\"Decision Tree \", aces_DT_new, precision_DT_new, recall_DT_new, f1_DT_new])\n",
        "table_task2_new.add_row([\"Random Forest  \",aces_RF_new, precision_RF_new, recall_RF_new, f1_RF_new])\n",
        "table_task2_new.add_row([\"KNN  \", aces_kNN_new, precision_kNN_new, recall_kNN_new, f1_kNN_new])\n",
        "table_task2_new.add_row([\"NaiveBayes   \", aces_NB_new, precision_NB_new, recall_NB_new, f1_NB_new])\n",
        "\n",
        "print(table_task2_new)"
      ],
      "metadata": {
        "colab": {
          "base_uri": "https://localhost:8080/"
        },
        "id": "R24sU43xyWsv",
        "outputId": "2c61ed9f-0271-4796-dae1-6bfb24df9487"
      },
      "execution_count": null,
      "outputs": [
        {
          "output_type": "stream",
          "name": "stdout",
          "text": [
            "+-----------------+----------+-----------+--------+--------+\n",
            "|                 | Accuracy | Precision | Recall |   F1   |\n",
            "+-----------------+----------+-----------+--------+--------+\n",
            "|  Decision Tree  |  0.5778  |   0.639   | 0.5585 | 0.4943 |\n",
            "| Random Forest   |  0.6056  |   0.604   | 0.6022 | 0.6018 |\n",
            "|      KNN        |  0.5775  |   0.5758  | 0.5753 | 0.5753 |\n",
            "|  NaiveBayes     |  0.5539  |   0.5758  | 0.5641 | 0.5403 |\n",
            "+-----------------+----------+-----------+--------+--------+\n"
          ]
        }
      ]
    },
    {
      "cell_type": "markdown",
      "source": [
        "#Task 4. \n",
        "For a given dataset in the Lab #5 (**credit card dataset**), perform feature selection and thencompare the performance of selected classification algorithms (Decision Tree, kNN, Logistic Regression, SVM, Random Forest and NaiveBayes) based on accuracy, precision, recall, f1 measures.\n"
      ],
      "metadata": {
        "id": "Z5pp7_h-aP2u"
      }
    },
    {
      "cell_type": "code",
      "source": [
        "# code\n",
        "df_task4 = pd.read_csv('creditcard.csv')\n",
        "x_task4 = df_task4.iloc[:,:-1]\n",
        "y_task4 = df_task4[['Class']]"
      ],
      "metadata": {
        "id": "Rw_-8FIf2KxW"
      },
      "execution_count": 104,
      "outputs": []
    },
    {
      "cell_type": "code",
      "source": [
        "clf_task4 = RandomForestClassifier(n_estimators=100)\n",
        "# lenght = range(0,41)\n",
        "clf_task4.fit(x_task4.head(100),y_task4.head(100))\n",
        "feature_imp_task4 = pd.Series(clf_task4.feature_importances_, index= x_task4.columns).sort_values(ascending=False)\n",
        "\n",
        "features = feature_imp.index[0:4].values\n",
        "X_task4_new = x_task4[feature_imp_task4.index[0:4]]\n",
        "\n",
        "X_task4_train_new, X_task4_test_new, Y_task4_train_new, Y_task4_test_new = train_test_split(X_task4_new,y_task4, test_size = 0.3, train_size=0.7,random_state=1)"
      ],
      "metadata": {
        "colab": {
          "base_uri": "https://localhost:8080/"
        },
        "id": "L19ZQbtXIwtt",
        "outputId": "dae92593-93ea-4ac9-dfc1-dd50dc61198e"
      },
      "execution_count": 105,
      "outputs": [
        {
          "output_type": "stream",
          "name": "stderr",
          "text": [
            "<ipython-input-105-2c2c7614f36d>:3: DataConversionWarning: A column-vector y was passed when a 1d array was expected. Please change the shape of y to (n_samples,), for example using ravel().\n",
            "  clf_task4.fit(x_task4.head(100),y_task4.head(100))\n"
          ]
        }
      ]
    },
    {
      "cell_type": "code",
      "source": [
        "# Decision Tree\n",
        "clf_DT_task4_new = DecisionTreeClassifier(criterion=\"gini\", random_state=42, max_depth=3, min_samples_leaf=5)\n",
        "clf_DT_task4_new.fit(X_task4_train_new, Y_task4_train_new)\n",
        "y_pred_DT_task4_new = clf_DT_task4_new.predict(X_task4_test_new)\n",
        "\n",
        "aces_DT_task4_new = round(metrics.accuracy_score(Y_task4_test_new,y_pred_DT_task4_new),4)\n",
        "precision_DT_task4_new = round(metrics.precision_score(Y_task4_test_new, y_pred_DT_task4_new, average='macro'),4)\n",
        "recall_DT_task4_new = round(metrics.recall_score(Y_task4_test_new, y_pred_DT_task4_new, average='macro'),4)\n",
        "f1_DT_task4_new = round(metrics.f1_score(Y_task4_test_new, y_pred_DT_task4_new, average='macro'),4)"
      ],
      "metadata": {
        "id": "xgtoqDhR4kbY"
      },
      "execution_count": 106,
      "outputs": []
    },
    {
      "cell_type": "code",
      "source": [
        "# kNN\n",
        "kNN_task4_new = KNeighborsClassifier(n_neighbors = 5)\n",
        "kNN_task4_new.fit(X_task4_train_new, Y_task4_train_new)\n",
        "y_pred_kNN_task4_new = kNN_task4_new.predict(X_task4_test_new)\n",
        "\n",
        "aces_kNN_task4_new = round(metrics.accuracy_score(Y_task4_test_new, y_pred_kNN_task4_new ),4)\n",
        "precision_kNN_task4_new = round(metrics.precision_score(Y_task4_test_new, y_pred_kNN_task4_new, average='macro'),4)\n",
        "recall_kNN_task4_new = round(metrics.recall_score(Y_task4_test_new, y_pred_kNN_task4_new , average='macro'),4)\n",
        "f1_kNN_task4_new = round(metrics.f1_score(Y_task4_test_new, y_pred_kNN_task4_new , average='macro'),4)"
      ],
      "metadata": {
        "colab": {
          "base_uri": "https://localhost:8080/"
        },
        "id": "vlVtpnRW5l8s",
        "outputId": "6742e44d-d597-42bf-8ed3-a2b9e060eed5"
      },
      "execution_count": 107,
      "outputs": [
        {
          "output_type": "stream",
          "name": "stderr",
          "text": [
            "/usr/local/lib/python3.9/dist-packages/sklearn/neighbors/_classification.py:215: DataConversionWarning: A column-vector y was passed when a 1d array was expected. Please change the shape of y to (n_samples,), for example using ravel().\n",
            "  return self._fit(X, y)\n"
          ]
        }
      ]
    },
    {
      "cell_type": "code",
      "source": [
        "# Logistic Regression\n",
        "classifier = LogisticRegression(random_state = 0) \n",
        "classifier.fit(X_task4_train_new, Y_task4_train_new)\n",
        "y_pred_LR = classifier.predict(X_task4_test_new)\n",
        "\n",
        "aces_LR = metrics.accuracy_score(Y_task4_test_new, y_pred_LR)\n",
        "precision_LR = metrics.precision_score(Y_task4_test_new, y_pred_LR, average='macro')\n",
        "recall_LR = metrics.recall_score(Y_task4_test_new, y_pred_LR, average='macro')\n",
        "f1_LR = metrics.f1_score(Y_task4_test_new, y_pred_LR, average='macro')"
      ],
      "metadata": {
        "colab": {
          "base_uri": "https://localhost:8080/"
        },
        "id": "bFYCuppa58ss",
        "outputId": "cbd58c65-788e-4d6e-e557-a1ef36652aa4"
      },
      "execution_count": 108,
      "outputs": [
        {
          "output_type": "stream",
          "name": "stderr",
          "text": [
            "/usr/local/lib/python3.9/dist-packages/sklearn/utils/validation.py:1143: DataConversionWarning: A column-vector y was passed when a 1d array was expected. Please change the shape of y to (n_samples, ), for example using ravel().\n",
            "  y = column_or_1d(y, warn=True)\n"
          ]
        }
      ]
    },
    {
      "cell_type": "code",
      "source": [
        "# Suport Vector Machine \n",
        "# Linear Kernel using selection feature\n",
        "smv_ln_new = svm.SVC(kernel='linear')\n",
        "smv_ln_new.fit(X_task4_train_new, Y_task4_train_new)\n",
        "y_pred_ln_new = smv_ln_new.predict(X_task4_test_new)\n",
        "\n",
        "aces_LN_new = round(metrics.accuracy_score(Y_task4_test_new, y_pred_ln_new),4)\n",
        "precision_LN_new = round(metrics.precision_score(Y_task4_test_new, y_pred_ln_new, average='macro'),4)\n",
        "recall_LN_new = round(metrics.recall_score(Y_task4_test_new, y_pred_ln_new, average='macro'),4)\n",
        "f1_LN_new = round(metrics.f1_score(Y_task4_test_new, y_pred_ln_new, average='macro'),4)"
      ],
      "metadata": {
        "id": "SSMVPXq99EAu",
        "colab": {
          "base_uri": "https://localhost:8080/"
        },
        "outputId": "406858f0-e5d9-4ea6-83d3-41023649ccb9"
      },
      "execution_count": 109,
      "outputs": [
        {
          "output_type": "stream",
          "name": "stderr",
          "text": [
            "/usr/local/lib/python3.9/dist-packages/sklearn/utils/validation.py:1143: DataConversionWarning: A column-vector y was passed when a 1d array was expected. Please change the shape of y to (n_samples, ), for example using ravel().\n",
            "  y = column_or_1d(y, warn=True)\n"
          ]
        }
      ]
    },
    {
      "cell_type": "code",
      "source": [
        "# Random Forest \n",
        "rf_task4 = RandomForestClassifier(n_estimators=100)\n",
        "rf_task4.fit(X_task4_train_new, Y_task4_train_new)\n",
        "y_pred_rf_task4 = rf_task4.predict(X_task4_test_new)\n",
        "\n",
        "aces_RF_task4_new = round(metrics.accuracy_score(Y_task4_test_new, y_pred_rf_task4),4)\n",
        "precision_RF_task4_new = round(metrics.precision_score(Y_task4_test_new,y_pred_rf_task4, average='macro'),4)\n",
        "recall_RF_task4_new = round(metrics.recall_score(Y_task4_test_new, y_pred_rf_task4, average='macro'),4)\n",
        "f1_RF_task4_new = round(metrics.f1_score(Y_task4_test_new, y_pred_rf_task4, average='macro'),4)"
      ],
      "metadata": {
        "id": "eXCCNu4J7PPm",
        "colab": {
          "base_uri": "https://localhost:8080/"
        },
        "outputId": "bd4e8769-8575-44c6-9e04-f902ac810080"
      },
      "execution_count": 111,
      "outputs": [
        {
          "output_type": "stream",
          "name": "stderr",
          "text": [
            "<ipython-input-111-ef43064234a4>:3: DataConversionWarning: A column-vector y was passed when a 1d array was expected. Please change the shape of y to (n_samples,), for example using ravel().\n",
            "  rf_task4.fit(X_task4_train_new, Y_task4_train_new)\n"
          ]
        }
      ]
    },
    {
      "cell_type": "code",
      "source": [
        "# NaiveBayes \n",
        "nb_task4 = GaussianNB()\n",
        "nb_task4.fit(X_task4_train_new, Y_task4_train_new)\n",
        "y_pred_NB_task4 = nb_task4.predict(X_task4_test_new)\n",
        "\n",
        "aces_NB_task4_new = round(metrics.accuracy_score(Y_task4_test_new, y_pred_NB_task4),4)\n",
        "precision_NB_task4_new =round(metrics.precision_score(Y_task4_test_new, y_pred_NB_task4, average='macro'),4)\n",
        "recall_NB_task4_new = round(metrics.recall_score(Y_task4_test_new, y_pred_NB_task4, average='macro'),4)\n",
        "f1_NB_task4_new = round(metrics.f1_score(Y_task4_test_new, y_pred_NB_task4, average='macro'),4)"
      ],
      "metadata": {
        "id": "LQgqvSKh7sf4",
        "colab": {
          "base_uri": "https://localhost:8080/"
        },
        "outputId": "374b01a8-d69b-455c-93d1-abf1e71a8a39"
      },
      "execution_count": 112,
      "outputs": [
        {
          "output_type": "stream",
          "name": "stderr",
          "text": [
            "/usr/local/lib/python3.9/dist-packages/sklearn/utils/validation.py:1143: DataConversionWarning: A column-vector y was passed when a 1d array was expected. Please change the shape of y to (n_samples, ), for example using ravel().\n",
            "  y = column_or_1d(y, warn=True)\n"
          ]
        }
      ]
    },
    {
      "cell_type": "code",
      "source": [
        "table_task4_new = PrettyTable([\"\",\"Accuracy\", \"Precision\", \"Recall\", \"F1\"])\n",
        "\n",
        "table_task4_new.add_row([\"Decision Tree \", aces_DT_task4_new , precision_DT_task4_new, recall_DT_task4_new, f1_DT_task4_new])\n",
        "table_task4_new.add_row([\"KNN  \", aces_kNN_task4_new, precision_kNN_task4_new, recall_kNN_task4_new, f1_kNN_task4_new])\n",
        "table_task4_new.add_row([\"Logistic Regression  \", aces_LR, precision_LR, recall_LR, f1_LR])\n",
        "table_task4_new.add_row([\"Suport Vector Machine  \",aces_LN_new, precision_LN_new, recall_LN_new, f1_LN_new])\n",
        "table_task4_new.add_row([\"Random Forest  \",aces_RF_task4_new, precision_RF_task4_new, recall_RF_task4_new, f1_RF_task4_new])\n",
        "table_task4_new.add_row([\"NaiveBayes   \", aces_NB_task4_new, precision_NB_task4_new, recall_NB_task4_new, f1_NB_task4_new])\n",
        "\n",
        "print(table_task4_new)"
      ],
      "metadata": {
        "id": "zoMx1r3S8P0P",
        "colab": {
          "base_uri": "https://localhost:8080/"
        },
        "outputId": "fa427e44-5f3f-45ea-926f-c45f0d8d7269"
      },
      "execution_count": 113,
      "outputs": [
        {
          "output_type": "stream",
          "name": "stdout",
          "text": [
            "+-------------------------+--------------------+--------------------+--------------------+--------------------+\n",
            "|                         |      Accuracy      |     Precision      |       Recall       |         F1         |\n",
            "+-------------------------+--------------------+--------------------+--------------------+--------------------+\n",
            "|      Decision Tree      |       0.9984       |       0.7492       |       0.5148       |       0.5276       |\n",
            "|          KNN            |       0.9984       |       0.8326       |       0.5074       |       0.5141       |\n",
            "|  Logistic Regression    | 0.9982795547909132 | 0.5617215575871797 | 0.5073253517971481 | 0.5128145414149226 |\n",
            "| Suport Vector Machine   |       0.9979       |       0.5201       |       0.5071       |       0.5104       |\n",
            "|     Random Forest       |       0.9988       |        0.97        |       0.6185       |       0.689        |\n",
            "|      NaiveBayes         |       0.9949       |       0.5263       |       0.5648       |       0.5372       |\n",
            "+-------------------------+--------------------+--------------------+--------------------+--------------------+\n"
          ]
        }
      ]
    },
    {
      "cell_type": "markdown",
      "source": [
        "#Finally,\n",
        "Save a copy in your Github. Remember renaming the notebook."
      ],
      "metadata": {
        "id": "Ok7RGkea_b7n"
      }
    },
    {
      "cell_type": "code",
      "source": [],
      "metadata": {
        "id": "HnBkrVXFUL39"
      },
      "execution_count": null,
      "outputs": []
    }
  ]
}