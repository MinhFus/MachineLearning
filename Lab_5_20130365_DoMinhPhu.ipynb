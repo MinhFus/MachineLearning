{
  "nbformat": 4,
  "nbformat_minor": 0,
  "metadata": {
    "colab": {
      "provenance": [],
      "include_colab_link": true
    },
    "kernelspec": {
      "name": "python3",
      "display_name": "Python 3"
    },
    "language_info": {
      "name": "python"
    }
  },
  "cells": [
    {
      "cell_type": "markdown",
      "metadata": {
        "id": "view-in-github",
        "colab_type": "text"
      },
      "source": [
        "<a href=\"https://colab.research.google.com/github/MinhFus/MachineLearning/blob/main/Lab_5_20130365_DoMinhPhu.ipynb\" target=\"_parent\"><img src=\"https://colab.research.google.com/assets/colab-badge.svg\" alt=\"Open In Colab\"/></a>"
      ]
    },
    {
      "cell_type": "markdown",
      "source": [
        "# This lab is to deal with **SVM** to classification tasks and compare its performance with other competitive algorithms. In general, **SVM** is one of the most popular and widely used supervised machine learning algorithms.\n",
        "\n",
        "*   **Deadline: 23:59, 17/03/2023**\n",
        "\n"
      ],
      "metadata": {
        "id": "LMzehe0sy5wr"
      }
    },
    {
      "cell_type": "markdown",
      "source": [
        "# Import libraries"
      ],
      "metadata": {
        "id": "H4nJmxp9zGX4"
      }
    },
    {
      "cell_type": "code",
      "execution_count": null,
      "metadata": {
        "id": "DoVWQ8AEyc-C"
      },
      "outputs": [],
      "source": [
        "# code\n",
        "from sklearn import datasets\n",
        "from sklearn import svm\n",
        "from sklearn.linear_model import LogisticRegression\n",
        "from sklearn.model_selection import train_test_split\n",
        "from sklearn import metrics\n",
        "from prettytable import PrettyTable\n",
        "from sklearn.neighbors import KNeighborsClassifier\n",
        "from sklearn.tree import DecisionTreeClassifier\n",
        "import pandas as pd"
      ]
    },
    {
      "cell_type": "code",
      "source": [
        "from google.colab import drive\n",
        "drive.mount('/content/gdrive')\n",
        "%cd '/content/gdrive/MyDrive/NLU/Machine Learning/BaiTap'"
      ],
      "metadata": {
        "colab": {
          "base_uri": "https://localhost:8080/"
        },
        "id": "zcFaRbyp43a0",
        "outputId": "efbd343d-b9a4-42e4-af97-14a61f4fc6f5"
      },
      "execution_count": null,
      "outputs": [
        {
          "output_type": "stream",
          "name": "stdout",
          "text": [
            "Mounted at /content/gdrive\n",
            "/content/gdrive/MyDrive/NLU/Machine Learning/BaiTap\n"
          ]
        }
      ]
    },
    {
      "cell_type": "markdown",
      "source": [
        "#Task 1. \n",
        "For breast cancer dataset (https://tinyurl.com/3vme8hr3) which could be loaded from datasets in sklearn as follows:\n",
        "\n",
        "```\n",
        "#Import scikit-learn dataset library\n",
        "from sklearn import datasets\n",
        "\n",
        "#Load dataset\n",
        "cancer = datasets.load_breast_cancer()\n",
        "```\n",
        "\n",
        "*   1.1.\tApply SVM algorithm to above dataset using linear kernel.\n",
        "*   1.2.\tCompare the obtained results with other competitive algorithms (Logistic Regression, Decision Tree, kNN) based on metrics: accuracy, precision, recall, f1 measures.\n",
        "\n"
      ],
      "metadata": {
        "id": "kNv07ARGzOUm"
      }
    },
    {
      "cell_type": "code",
      "source": [
        "from os import access\n",
        "# code\n",
        "cancer = datasets.load_breast_cancer()\n",
        "\n",
        "x = cancer['data']\n",
        "y = cancer['target']\n",
        "clf = LogisticRegression(random_state = 0) \n",
        "X_train, X_test, Y_train, Y_test = train_test_split(x,y, test_size = 0.7, train_size=0.3,random_state=1)\n",
        "\n",
        "# Linear\n",
        "clf = svm.SVC(kernel='linear')\n",
        "clf.fit(X_train, Y_train)\n",
        "y_pred = clf.predict(X_test)\n",
        "\n",
        "aces_LN = metrics.accuracy_score(Y_test, y_pred)\n",
        "precision_LN = metrics.precision_score(Y_test, y_pred, average='macro')\n",
        "recall_LN = metrics.recall_score(Y_test, y_pred, average='macro')\n",
        "f1_LN = metrics.f1_score(Y_test, y_pred, average='macro')\n",
        "\n",
        "# Decision Tree\n",
        "clf_model = DecisionTreeClassifier(criterion=\"gini\", random_state=42,\n",
        "max_depth=3, min_samples_leaf=5)\n",
        "clf_model.fit(X_train,Y_train)\n",
        "y_pred_DT = clf_model.predict(X_test)\n",
        "\n",
        "aces_DT = metrics.accuracy_score(Y_test, y_pred_DT)\n",
        "precision_DT = metrics.precision_score(Y_test, y_pred_DT, average='macro')\n",
        "recall_DT = metrics.recall_score(Y_test, y_pred_DT, average='macro')\n",
        "f1_DT = metrics.f1_score(Y_test, y_pred_DT, average='macro')\n",
        "\n",
        "# Logistic Regression\n",
        "classifier = LogisticRegression(random_state = 0) \n",
        "classifier.fit(X_train, Y_train)\n",
        "y_pred_LR = classifier.predict(X_test)\n",
        "\n",
        "aces_LR = metrics.accuracy_score(Y_test, y_pred_LR)\n",
        "precision_LR = metrics.precision_score(Y_test, y_pred_LR, average='macro')\n",
        "recall_LR = metrics.recall_score(Y_test, y_pred_LR, average='macro')\n",
        "f1_LR = metrics.f1_score(Y_test, y_pred_LR, average='macro')\n",
        "\n",
        "# kNN\n",
        "kNN = KNeighborsClassifier(n_neighbors = 5)\n",
        "kNN.fit(X_train,Y_train)\n",
        "y_pred_kNN = kNN.predict(X_test)\n",
        "\n",
        "aces_kNN = metrics.accuracy_score(Y_test, y_pred_kNN)\n",
        "precision_kNN = metrics.precision_score(Y_test, y_pred_kNN, average='macro')\n",
        "recall_kNN = metrics.recall_score(Y_test, y_pred_kNN, average='macro')\n",
        "f1_kNN = metrics.f1_score(Y_test, y_pred_kNN, average='macro')\n",
        "\n",
        "\n",
        "t = PrettyTable([\"\",\"Accuracy\", \"Precision\", \"Recall\", \"F1\"])\n",
        "t.add_row([\"Linear Kernel\",round(aces_LN,3),round(precision_LN,3), round(recall_LN,3), round(f1_LN,3)])\n",
        "t.add_row([\"Decision Tree\",round(aces_DT,3),round(precision_DT,3), round(recall_DT,3), round(f1_DT,3)])\n",
        "t.add_row([\"Logistic Regression\",round(aces_LR,3),round(precision_LR,3), round(recall_LR,3), round(f1_LR,3)])\n",
        "t.add_row([\"kNN\",round(aces_kNN,3),round(precision_kNN,3), round(recall_kNN,3), round(f1_kNN,3)])\n",
        "print(t)"
      ],
      "metadata": {
        "id": "sOsg77IBzEyo",
        "colab": {
          "base_uri": "https://localhost:8080/"
        },
        "outputId": "41c4541e-94ad-4665-d003-ee08d8e94b34"
      },
      "execution_count": null,
      "outputs": [
        {
          "output_type": "stream",
          "name": "stdout",
          "text": [
            "+---------------------+----------+-----------+--------+-------+\n",
            "|                     | Accuracy | Precision | Recall |   F1  |\n",
            "+---------------------+----------+-----------+--------+-------+\n",
            "|    Linear Kernel    |   0.92   |   0.925   | 0.904  | 0.913 |\n",
            "|    Decision Tree    |  0.882   |   0.873   | 0.878  | 0.875 |\n",
            "| Logistic Regression |  0.925   |   0.927   | 0.912  | 0.919 |\n",
            "|         kNN         |  0.887   |   0.878   | 0.886  | 0.881 |\n",
            "+---------------------+----------+-----------+--------+-------+\n"
          ]
        },
        {
          "output_type": "stream",
          "name": "stderr",
          "text": [
            "/usr/local/lib/python3.9/dist-packages/sklearn/linear_model/_logistic.py:458: ConvergenceWarning: lbfgs failed to converge (status=1):\n",
            "STOP: TOTAL NO. of ITERATIONS REACHED LIMIT.\n",
            "\n",
            "Increase the number of iterations (max_iter) or scale the data as shown in:\n",
            "    https://scikit-learn.org/stable/modules/preprocessing.html\n",
            "Please also refer to the documentation for alternative solver options:\n",
            "    https://scikit-learn.org/stable/modules/linear_model.html#logistic-regression\n",
            "  n_iter_i = _check_optimize_result(\n"
          ]
        }
      ]
    },
    {
      "cell_type": "markdown",
      "source": [
        "#Task 2. \n",
        "\n",
        "*   1.1.\tPerform SVM algorithm to **Iris dataset** using **linear kernel**.\n",
        "*   1.2.\tCompare the obtained results in 1.1 with SVM using other kernels (**Polynomial Kernel, Gaussian Kernel, Sigmoid Kernel, Radial Basis Function Kernel**). Some metrics could be used: accuracy, precision, recall, f1 measures\n",
        "\n",
        "\n",
        "\n"
      ],
      "metadata": {
        "id": "S43IoUT-0OQq"
      }
    },
    {
      "cell_type": "markdown",
      "source": [
        "# 2.1"
      ],
      "metadata": {
        "id": "VmZyD3wqJCjq"
      }
    },
    {
      "cell_type": "code",
      "source": [
        "# code\n",
        "task2 = datasets.load_iris()\n",
        "x_task2 = task2.data\n",
        "y_task2 = task2.target\n",
        "\n",
        "X2_train, X2_test, Y2_train, Y2_test = train_test_split(x_task2,y_task2, test_size = 0.3, train_size =0.7,random_state=None)\n",
        "clf = svm.SVC(kernel='linear')\n",
        "clf.fit(X2_train, Y2_train)\n",
        "y2_pred = clf.predict(X2_test)\n",
        "\n",
        "aces_LN2 = metrics.accuracy_score(Y2_test, y2_pred)\n",
        "precision_LN2 = metrics.precision_score(Y2_test, y2_pred, average='macro')\n",
        "recall_LN2 = metrics.recall_score(Y2_test, y2_pred, average='macro')\n",
        "f1_LN2 = metrics.f1_score(Y2_test, y2_pred, average='macro')\n",
        "\n",
        "t1 = PrettyTable([\"\",\"Accuracy\", \"Precision\", \"Recall\", \"F1\"])\n",
        "t1.add_row([\"Linear Kernel of Task 2\",round(aces_LN2,3),round(precision_LN2,3), round(recall_LN2,3), round(f1_LN2,3)])\n",
        "print(t1)\n"
      ],
      "metadata": {
        "id": "_xhPpF5b033h",
        "colab": {
          "base_uri": "https://localhost:8080/"
        },
        "outputId": "7ea89cbb-d50b-4676-a7ba-03a9d4bd3776"
      },
      "execution_count": null,
      "outputs": [
        {
          "output_type": "stream",
          "name": "stdout",
          "text": [
            "+-------------------------+----------+-----------+--------+-------+\n",
            "|                         | Accuracy | Precision | Recall |   F1  |\n",
            "+-------------------------+----------+-----------+--------+-------+\n",
            "| Linear Kernel of Task 2 |  0.978   |   0.978   | 0.981  | 0.979 |\n",
            "+-------------------------+----------+-----------+--------+-------+\n"
          ]
        }
      ]
    },
    {
      "cell_type": "markdown",
      "source": [
        "# 2.2"
      ],
      "metadata": {
        "id": "FNYEFNiwJF6C"
      }
    },
    {
      "cell_type": "code",
      "source": [
        "# Polynomial Kernel\n",
        "clf_poly = svm.SVC(kernel='poly', degree=3)\n",
        "clf_poly.fit(X2_train, Y2_train)\n",
        "y2_pred_poly = clf_poly.predict(X2_test)\n",
        "\n",
        "aces_LN2_poly = metrics.accuracy_score(Y2_test, y2_pred_poly)\n",
        "precision_LN2_poly = metrics.precision_score(Y2_test, y2_pred_poly, average='macro')\n",
        "recall_LN2_poly = metrics.recall_score(Y2_test, y2_pred_poly, average='macro')\n",
        "f1_LN2_poly = metrics.f1_score(Y2_test,y2_pred_poly, average='macro')"
      ],
      "metadata": {
        "id": "rWNGon-urXn-"
      },
      "execution_count": null,
      "outputs": []
    },
    {
      "cell_type": "code",
      "source": [
        "# Sigmoid Kernel\n",
        "clf_sig = svm.SVC(kernel='sigmoid')\n",
        "clf_sig.fit(X2_train, Y2_train)\n",
        "y2_pred_sig = clf_sig.predict(X2_test)\n",
        "\n",
        "aces_LN2_sig = metrics.accuracy_score(Y2_test, y2_pred_sig)\n",
        "precision_LN2_sig = metrics.precision_score(Y2_test, y2_pred_sig, average='macro')\n",
        "recall_LN2_sig = metrics.recall_score(Y2_test, y2_pred_sig, average='macro')\n",
        "f1_LN2_sig = metrics.f1_score(Y2_test,y2_pred_sig, average='macro')"
      ],
      "metadata": {
        "colab": {
          "base_uri": "https://localhost:8080/"
        },
        "id": "-vnWcSMN_tQd",
        "outputId": "58ede11b-cf8c-4495-a884-2e0a8d927f9a"
      },
      "execution_count": null,
      "outputs": [
        {
          "output_type": "stream",
          "name": "stderr",
          "text": [
            "/usr/local/lib/python3.9/dist-packages/sklearn/metrics/_classification.py:1344: UndefinedMetricWarning: Precision is ill-defined and being set to 0.0 in labels with no predicted samples. Use `zero_division` parameter to control this behavior.\n",
            "  _warn_prf(average, modifier, msg_start, len(result))\n"
          ]
        }
      ]
    },
    {
      "cell_type": "code",
      "source": [
        "# Radial Basis Function Kernel\n",
        "clf_rbf = svm.SVC(C=1.0, kernel='rbf', degree=4, gamma='scale', coef0=0.0,shrinking=True, probability=False, \n",
        "                   tol=0.001, cache_size=200, class_weight=None, verbose=False, max_iter=- 1, decision_function_shape='ovr', break_ties=False, random_state=None)\n",
        "clf_rbf.fit(X2_train, Y2_train)\n",
        "y2_pred_rbf = clf_rbf.predict(X2_test)\n",
        "\n",
        "aces_LN2_rbf = metrics.accuracy_score(Y2_test, y2_pred_rbf)\n",
        "precision_LN2_rbf = metrics.precision_score(Y2_test, y2_pred_rbf, average='macro')\n",
        "recall_LN2_rbf = metrics.recall_score(Y2_test, y2_pred_rbf, average='macro')\n",
        "f1_LN2_rbf = metrics.f1_score(Y2_test,y2_pred_rbf, average='macro')"
      ],
      "metadata": {
        "id": "2i2_3e8N98gy"
      },
      "execution_count": null,
      "outputs": []
    },
    {
      "cell_type": "code",
      "source": [
        "t1 = PrettyTable([\"\",\"Accuracy\", \"Precision\", \"Recall\", \"F1\"])\n",
        "t1.add_row([\"Linear Kernel\",round(aces_LN2,4),round(precision_LN2,4), round(recall_LN2,4), round(f1_LN2,4)])\n",
        "t1.add_row([\"Polynomial Kernel\",round(aces_LN2_poly,4),round(precision_LN2_poly,4), round(recall_LN2_poly,4), round(f1_LN2_poly,4)])\n",
        "t1.add_row([\"Sigmoid Kernel\",round(aces_LN2_sig,4),round(precision_LN2_sig,4), round(recall_LN2_sig,4), round(f1_LN2_sig,4)])\n",
        "t1.add_row([\"Radial Basis Function Kernel\",round(aces_LN2_rbf,4),round(precision_LN2_rbf,4), round(recall_LN2_rbf,4), round(f1_LN2_rbf,4)])\n",
        "print(t1)"
      ],
      "metadata": {
        "colab": {
          "base_uri": "https://localhost:8080/"
        },
        "id": "4JL_BD18trkV",
        "outputId": "ef767c15-c9e7-4583-deff-6fade9adefee"
      },
      "execution_count": null,
      "outputs": [
        {
          "output_type": "stream",
          "name": "stdout",
          "text": [
            "+------------------------------+----------+-----------+--------+--------+\n",
            "|                              | Accuracy | Precision | Recall |   F1   |\n",
            "+------------------------------+----------+-----------+--------+--------+\n",
            "|        Linear Kernel         |  0.9778  |   0.9778  | 0.9815 | 0.979  |\n",
            "|      Polynomial Kernel       |  0.9556  |   0.9583  | 0.963  | 0.9582 |\n",
            "|        Sigmoid Kernel        |  0.2889  |   0.0963  | 0.3333 | 0.1494 |\n",
            "| Radial Basis Function Kernel |  0.9333  |   0.9393  | 0.9339 | 0.9359 |\n",
            "+------------------------------+----------+-----------+--------+--------+\n"
          ]
        }
      ]
    },
    {
      "cell_type": "markdown",
      "source": [
        "#Task 3. \n",
        "Compare the performance of selected classification algorithms (Decision Tree, kNN, Logistic Regression) and SVM (using different kernels) with mnist dataset based on accuracy, precision, recall, f1 measures.\n"
      ],
      "metadata": {
        "id": "b52OPWPD2afi"
      }
    },
    {
      "cell_type": "code",
      "source": [
        "mnist = datasets.load_digits()\n",
        "x_task3 = mnist.data\n",
        "y_task3 = mnist.target\n",
        "\n",
        "X3_train, X3_test, Y3_train, Y3_test = train_test_split(x_task3,y_task3, test_size = 0.3, train_size =0.7,random_state=None)"
      ],
      "metadata": {
        "id": "zdhoUEHtGt47"
      },
      "execution_count": null,
      "outputs": []
    },
    {
      "cell_type": "code",
      "source": [
        "# Decision Tree\n",
        "clf_DT = DecisionTreeClassifier(criterion=\"gini\", random_state=42, max_depth=3, min_samples_leaf=5)\n",
        "clf_DT.fit(X3_train,Y3_train)\n",
        "y_pred_DT_T3 = clf_DT.predict(X3_test)\n",
        "\n",
        "aces_DT_T3 = metrics.accuracy_score(Y3_test,y_pred_DT_T3)\n",
        "precision_DT_T3 = metrics.precision_score(Y3_test, y_pred_DT_T3, average='macro')\n",
        "recall_DT_T3 = metrics.recall_score(Y3_test, y_pred_DT_T3, average='macro')\n",
        "f1_DT_T3 = metrics.f1_score(Y3_test, y_pred_DT_T3, average='macro')\n",
        "\n",
        "# Logistic Regression\n",
        "classifier_task3 = LogisticRegression(random_state = 0) \n",
        "classifier_task3.fit(X3_train, Y3_train)\n",
        "y_pred_LR_T3 = classifier_task3.predict(X3_test)\n",
        "\n",
        "aces_LR_T3 = metrics.accuracy_score(Y3_test, y_pred_LR_T3)\n",
        "precision_LR_T3 = metrics.precision_score(Y3_test, y_pred_LR_T3, average='macro')\n",
        "recall_LR_T3 = metrics.recall_score(Y3_test, y_pred_LR_T3, average='macro')\n",
        "f1_LR_T3 = metrics.f1_score(Y3_test, y_pred_LR_T3, average='macro')\n",
        "\n",
        "# kNN\n",
        "kNN_task3 = KNeighborsClassifier(n_neighbors = 5)\n",
        "kNN_task3.fit(X3_train,Y3_train)\n",
        "y_pred_kNN_t3 = kNN_task3.predict(X3_test)\n",
        "\n",
        "aces_kNN_T3 = metrics.accuracy_score(Y3_test,y_pred_kNN_t3)\n",
        "precision_kNN_T3 = metrics.precision_score(Y3_test, y_pred_kNN_t3, average='macro')\n",
        "recall_kNN_T3 = metrics.recall_score(Y3_test, y_pred_kNN_t3, average='macro')\n",
        "f1_kNN_T3 = metrics.f1_score(Y3_test, y_pred_kNN_t3, average='macro')\n",
        "\n",
        "# Polynomial Kernel\n",
        "clf_poly_Task3 = svm.SVC(kernel='poly', degree=3)\n",
        "clf_poly_Task3.fit(X3_train, Y3_train)\n",
        "y_pred_poly_T3 = clf_poly_Task3.predict(X3_test)\n",
        "\n",
        "aces_LN_poly_T3 = metrics.accuracy_score(Y3_test, y_pred_poly_T3)\n",
        "precision_LN_poly_T3 = metrics.precision_score(Y3_test, y_pred_poly_T3, average='macro')\n",
        "recall_LN_poly_T3 = metrics.recall_score(Y3_test, y_pred_poly_T3, average='macro')\n",
        "f1_LN_poly_T3 = metrics.f1_score(Y3_test,y_pred_poly_T3, average='macro')\n",
        "\n",
        "# Sigmoid Kernel\n",
        "clf_sig_Task3 = svm.SVC(kernel='sigmoid')\n",
        "clf_sig_Task3.fit(X3_train, Y3_train)\n",
        "y_pred_sig_Task3 = clf_sig_Task3.predict(X3_test)\n",
        "\n",
        "aces_LN_sig_T3 = metrics.accuracy_score(Y3_test, y_pred_sig_Task3)\n",
        "precision_LN_sig_T3 = metrics.precision_score(Y3_test, y_pred_sig_Task3, average='macro')\n",
        "recall_LN_sig_T3 = metrics.recall_score(Y3_test, y_pred_sig_Task3, average='macro')\n",
        "f1_LN_sig_T3 = metrics.f1_score(Y3_test,y_pred_sig_Task3, average='macro')\n",
        "\n",
        "# Radial Basis Function Kernel\n",
        "clf_rbf_Task3 = svm.SVC(C=1.0, kernel='rbf', degree=4, gamma='scale', coef0=0.0,shrinking=True, probability=False, \n",
        "                   tol=0.001, cache_size=200, class_weight=None, verbose=False, max_iter=- 1, decision_function_shape='ovr', break_ties=False, random_state=None)\n",
        "clf_rbf_Task3.fit(X3_train, Y3_train)\n",
        "y_pred_rbf_Task3 = clf_rbf_Task3.predict(X3_test)\n",
        "\n",
        "aces_LN_rbf_T3 = metrics.accuracy_score(Y3_test, y_pred_rbf_Task3)\n",
        "precision_LN_rbf_T3 = metrics.precision_score(Y3_test, y_pred_rbf_Task3, average='macro')\n",
        "recall_LN_rbf_T3 = metrics.recall_score(Y3_test, y_pred_rbf_Task3, average='macro')\n",
        "f1_LN_rbf_T3 = metrics.f1_score(Y3_test,y_pred_rbf_Task3, average='macro')"
      ],
      "metadata": {
        "colab": {
          "base_uri": "https://localhost:8080/"
        },
        "id": "bcprEGrrLPSi",
        "outputId": "a4cf724e-f1ad-4b6c-be96-8830309e0603"
      },
      "execution_count": null,
      "outputs": [
        {
          "output_type": "stream",
          "name": "stderr",
          "text": [
            "/usr/local/lib/python3.9/dist-packages/sklearn/metrics/_classification.py:1344: UndefinedMetricWarning: Precision is ill-defined and being set to 0.0 in labels with no predicted samples. Use `zero_division` parameter to control this behavior.\n",
            "  _warn_prf(average, modifier, msg_start, len(result))\n",
            "/usr/local/lib/python3.9/dist-packages/sklearn/linear_model/_logistic.py:458: ConvergenceWarning: lbfgs failed to converge (status=1):\n",
            "STOP: TOTAL NO. of ITERATIONS REACHED LIMIT.\n",
            "\n",
            "Increase the number of iterations (max_iter) or scale the data as shown in:\n",
            "    https://scikit-learn.org/stable/modules/preprocessing.html\n",
            "Please also refer to the documentation for alternative solver options:\n",
            "    https://scikit-learn.org/stable/modules/linear_model.html#logistic-regression\n",
            "  n_iter_i = _check_optimize_result(\n"
          ]
        }
      ]
    },
    {
      "cell_type": "code",
      "source": [
        "t3 = PrettyTable([\"\",\"Accuracy\", \"Precision\", \"Recall\", \"F1\"])\n",
        "t3.add_row([\"Decision Tree\",round(aces_DT_T4,4),round(precision_DT_T4,4), round(recall_DT_T4,4), round(f1_DT_T4,4)])\n",
        "t3.add_row([\"Logistic Regression\",round(aces_LR_T4,4),round(precision_LR_T4,4), round(recall_LR_T4,4), round(f1_LR_T4,4)])\n",
        "t3.add_row([\"kNN\",round(aces_kNN_T4,4),round(precision_kNN_T4,4), round(recall_kNN_T4,4), round(f1_kNN_T4,4)])\n",
        "t3.add_row([\"Polynomial Kernel\",round(aces_LN_poly_T4,4),round(precision_LN_poly_T4,4), round(recall_LN_poly_T4,4), round(f1_LN_poly_T4,4)])\n",
        "t3.add_row([\"Sigmoid Kernel\",round(aces_LN_sig_T4,4),round(precision_LN_sig_T4,4), round(recall_LN_sig_T4,4), round(f1_LN_sig_T4,4)])\n",
        "t3.add_row([\"Radial Basis Function Kernel\",round(aces_LN_rbf_T4,4),round(precision_LN_rbf_T4,4), round(recall_LN_rbf_T3,4), round(f1_LN_rbf_T3,4)])\n",
        "print(t3)"
      ],
      "metadata": {
        "id": "86sYoicPKrJL",
        "outputId": "0569dbf8-61b5-4a46-bebe-f76975c30be7",
        "colab": {
          "base_uri": "https://localhost:8080/"
        }
      },
      "execution_count": null,
      "outputs": [
        {
          "metadata": {
            "tags": null
          },
          "name": "stdout",
          "output_type": "stream",
          "text": [
            "+------------------------------+----------+-----------+--------+--------+\n",
            "|                              | Accuracy | Precision | Recall |   F1   |\n",
            "+------------------------------+----------+-----------+--------+--------+\n",
            "|        Decision Tree         |  0.4741  |   0.4048  | 0.485  | 0.3983 |\n",
            "|     Logistic Regression      |  0.9648  |   0.9648  | 0.9646 | 0.9646 |\n",
            "|             kNN              |  0.9852  |   0.9851  | 0.9856 | 0.9852 |\n",
            "|      Polynomial Kernel       |  0.9889  |   0.9889  | 0.9892 | 0.989  |\n",
            "|        Sigmoid Kernel        |  0.9111  |   0.9143  | 0.9119 | 0.9121 |\n",
            "| Radial Basis Function Kernel |  0.9852  |   0.9854  | 0.9855 | 0.9853 |\n",
            "+------------------------------+----------+-----------+--------+--------+\n"
          ]
        }
      ]
    },
    {
      "cell_type": "markdown",
      "source": [
        "#Task 4. \n",
        "Compare the performance of selected classification algorithms (Decision Tree, kNN, Logistic Regression) and SVM (using different kernels) with **credit card dataset** based on accuracy, precision, recall, f1 measures.\n",
        "\n",
        "*   Give some comments on the obtained results\n",
        "*   Identify issues with dataset, and propose the solutions to these issues\n",
        "\n"
      ],
      "metadata": {
        "id": "Z5pp7_h-aP2u"
      }
    },
    {
      "cell_type": "code",
      "source": [
        "# code\n",
        "df = pd.read_csv('creditcard.csv')\n",
        "# df.columns\n",
        "x4 = df.iloc[:,:-1]\n",
        "y4 = df[['Class']]\n",
        "\n",
        "X4_train, X4_test, Y4_train, Y4_test = train_test_split(x4, y4, test_size = 0.3, train_size= 0.7,random_state = None,shuffle=True, stratify=None)\n",
        "\n",
        "# Decision Tree\n",
        "clf_DT_T4 = DecisionTreeClassifier(criterion=\"gini\", random_state=42, max_depth=3, min_samples_leaf=5)\n",
        "clf_DT_T4.fit(X4_train,Y4_train)\n",
        "y_pred_DT_T4 = clf_DT_T4.predict(X4_test)\n",
        "\n",
        "aces_DT_T4 = metrics.accuracy_score(Y4_test,y_pred_DT_T4)\n",
        "precision_DT_T4 = metrics.precision_score(Y4_test, y_pred_DT_T4, average='macro')\n",
        "recall_DT_T4 = metrics.recall_score(Y4_test, y_pred_DT_T4, average='macro')\n",
        "f1_DT_T4 = metrics.f1_score(Y4_test, y_pred_DT_T4, average='macro')\n",
        "\n",
        "# Logistic Regression\n",
        "classifier_task4 = LogisticRegression(random_state = 0) \n",
        "classifier_task4.fit(X4_train, Y4_train)\n",
        "y_pred_LR_T4 = classifier_task4.predict(X4_test)\n",
        "\n",
        "aces_LR_T4 = metrics.accuracy_score(Y4_test, y_pred_LR_T4)\n",
        "precision_LR_T4 = metrics.precision_score(Y4_test, y_pred_LR_T4, average='macro')\n",
        "recall_LR_T4 = metrics.recall_score(Y4_test, y_pred_LR_T4, average='macro')\n",
        "f1_LR_T4 = metrics.f1_score(Y4_test, y_pred_LR_T4, average='macro')\n",
        "\n",
        "# kNN\n",
        "kNN_task4 = KNeighborsClassifier(n_neighbors = 5)\n",
        "kNN_task4.fit(X4_train,Y4_train)\n",
        "y_pred_kNN_t4 = kNN_task4.predict(X4_test)\n",
        "\n",
        "aces_kNN_T4 = metrics.accuracy_score(Y4_test,y_pred_kNN_t4)\n",
        "precision_kNN_T4 = metrics.precision_score(Y4_test, y_pred_kNN_t4, average='macro')\n",
        "recall_kNN_T4 = metrics.recall_score(Y4_test, y_pred_kNN_t4, average='macro')\n",
        "f1_kNN_T4 = metrics.f1_score(Y4_test, y_pred_kNN_t4, average='macro')\n",
        "\n",
        "# Polynomial Kernel\n",
        "clf_poly_Task4 = svm.SVC(kernel='poly', degree=3)\n",
        "clf_poly_Task4.fit(X4_train, Y4_train)\n",
        "y_pred_poly_T4 = clf_poly_Task4.predict(X4_test)\n",
        "\n",
        "aces_LN_poly_T4 = metrics.accuracy_score(Y4_test, y_pred_poly_T4)\n",
        "precision_LN_poly_T4 = metrics.precision_score(Y4_test, y_pred_poly_T4, average='macro')\n",
        "recall_LN_poly_T4 = metrics.recall_score(Y4_test, y_pred_poly_T4, average='macro')\n",
        "f1_LN_poly_T4 = metrics.f1_score(Y4_test,y_pred_poly_T4, average='macro')\n",
        "\n",
        "# Sigmoid Kernel\n",
        "clf_sig_Task4 = svm.SVC(kernel='sigmoid')\n",
        "clf_sig_Task4.fit(X4_train, Y4_train)\n",
        "y_pred_sig_Task4 = clf_sig_Task4.predict(X4_test)\n",
        "\n",
        "aces_LN_sig_T4 = metrics.accuracy_score(Y4_test, y_pred_sig_Task4)\n",
        "precision_LN_sig_T4 = metrics.precision_score(Y4_test, y_pred_sig_Task4, average='macro')\n",
        "recall_LN_sig_T4 = metrics.recall_score(Y4_test, y_pred_sig_Task4, average='macro')\n",
        "f1_LN_sig_T4 = metrics.f1_score(Y4_test,y_pred_sig_Task4, average='macro')\n",
        "\n",
        "# Radial Basis Function Kernel\n",
        "clf_rbf_Task4 = svm.SVC(C=1.0, kernel='rbf', degree=4, gamma='scale', coef0=0.0,shrinking=True, probability=False, \n",
        "                   tol=0.001, cache_size=200, class_weight=None, verbose=False, max_iter=- 1, decision_function_shape='ovr', break_ties=False, random_state=None)\n",
        "clf_rbf_Task4.fit(X4_train, Y4_train)\n",
        "y_pred_rbf_Task4 = clf_rbf_Task4.predict(X4_test)\n",
        "\n",
        "aces_LN_rbf_T4 = metrics.accuracy_score(Y4_test, y_pred_rbf_Task4)\n",
        "precision_LN_rbf_T4 = metrics.precision_score(Y4_test, y_pred_rbf_Task4, average='macro')\n",
        "recall_LN_rbf_T4 = metrics.recall_score(Y4_test, y_pred_rbf_Task4, average='macro')\n",
        "f1_LN_rbf_T4 = metrics.f1_score(Y4_test,y_pred_rbf_Task4, average='macro')"
      ],
      "metadata": {
        "id": "Rw_-8FIf2KxW",
        "colab": {
          "base_uri": "https://localhost:8080/"
        },
        "outputId": "673ab8d6-8429-4b3e-aff1-fb8a4c736377"
      },
      "execution_count": null,
      "outputs": [
        {
          "metadata": {
            "tags": null
          },
          "name": "stderr",
          "output_type": "stream",
          "text": [
            "/usr/local/lib/python3.9/dist-packages/sklearn/utils/validation.py:1143: DataConversionWarning: A column-vector y was passed when a 1d array was expected. Please change the shape of y to (n_samples, ), for example using ravel().\n",
            "  y = column_or_1d(y, warn=True)\n",
            "/usr/local/lib/python3.9/dist-packages/sklearn/linear_model/_logistic.py:458: ConvergenceWarning: lbfgs failed to converge (status=1):\n",
            "STOP: TOTAL NO. of ITERATIONS REACHED LIMIT.\n",
            "\n",
            "Increase the number of iterations (max_iter) or scale the data as shown in:\n",
            "    https://scikit-learn.org/stable/modules/preprocessing.html\n",
            "Please also refer to the documentation for alternative solver options:\n",
            "    https://scikit-learn.org/stable/modules/linear_model.html#logistic-regression\n",
            "  n_iter_i = _check_optimize_result(\n",
            "/usr/local/lib/python3.9/dist-packages/sklearn/neighbors/_classification.py:215: DataConversionWarning: A column-vector y was passed when a 1d array was expected. Please change the shape of y to (n_samples,), for example using ravel().\n",
            "  return self._fit(X, y)\n",
            "/usr/local/lib/python3.9/dist-packages/sklearn/utils/validation.py:1143: DataConversionWarning: A column-vector y was passed when a 1d array was expected. Please change the shape of y to (n_samples, ), for example using ravel().\n",
            "  y = column_or_1d(y, warn=True)\n",
            "/usr/local/lib/python3.9/dist-packages/sklearn/metrics/_classification.py:1344: UndefinedMetricWarning: Precision is ill-defined and being set to 0.0 in labels with no predicted samples. Use `zero_division` parameter to control this behavior.\n",
            "  _warn_prf(average, modifier, msg_start, len(result))\n",
            "/usr/local/lib/python3.9/dist-packages/sklearn/utils/validation.py:1143: DataConversionWarning: A column-vector y was passed when a 1d array was expected. Please change the shape of y to (n_samples, ), for example using ravel().\n",
            "  y = column_or_1d(y, warn=True)\n",
            "/usr/local/lib/python3.9/dist-packages/sklearn/metrics/_classification.py:1344: UndefinedMetricWarning: Precision is ill-defined and being set to 0.0 in labels with no predicted samples. Use `zero_division` parameter to control this behavior.\n",
            "  _warn_prf(average, modifier, msg_start, len(result))\n",
            "/usr/local/lib/python3.9/dist-packages/sklearn/utils/validation.py:1143: DataConversionWarning: A column-vector y was passed when a 1d array was expected. Please change the shape of y to (n_samples, ), for example using ravel().\n",
            "  y = column_or_1d(y, warn=True)\n",
            "/usr/local/lib/python3.9/dist-packages/sklearn/metrics/_classification.py:1344: UndefinedMetricWarning: Precision is ill-defined and being set to 0.0 in labels with no predicted samples. Use `zero_division` parameter to control this behavior.\n",
            "  _warn_prf(average, modifier, msg_start, len(result))\n"
          ]
        }
      ]
    },
    {
      "cell_type": "code",
      "source": [
        "t4 = PrettyTable([\"\",\"Accuracy\", \"Precision\", \"Recall\", \"F1\"])\n",
        "t4.add_row([\"Decision Tree\",round(aces_DT_T4,4),round(precision_DT_T4,4), round(recall_DT_T4,4), round(f1_DT_T4,4)])\n",
        "t4.add_row([\"Logistic Regression\",round(aces_LR_T4,4),round(precision_LR_T4,4), round(recall_LR_T4,4), round(f1_LR_T4,4)])\n",
        "t4.add_row([\"kNN\",round(aces_kNN_T4,4),round(precision_kNN_T4,4), round(recall_kNN_T4,4), round(f1_kNN_T4,4)])\n",
        "t4.add_row([\"Polynomial Kernel\",round(aces_LN_poly_T4,4),round(precision_LN_poly_T4,4), round(recall_LN_poly_T4,4), round(f1_LN_poly_T4,4)])\n",
        "t4.add_row([\"Sigmoid Kernel\",round(aces_LN_sig_T4,4),round(precision_LN_sig_T4,4), round(recall_LN_sig_T4,4), round(f1_LN_sig_T4,4)])\n",
        "t4.add_row([\"Radial Basis Function Kernel\",round(aces_LN_rbf_T4,4),round(precision_LN_rbf_T4,4), round(recall_LN_rbf_T4,4), round(f1_LN_rbf_T4,4)])\n",
        "print(t4)"
      ],
      "metadata": {
        "id": "So1eiCMEhDlg",
        "outputId": "fe7b9091-acec-4ac3-d454-9bc5b0c747de",
        "colab": {
          "base_uri": "https://localhost:8080/"
        }
      },
      "execution_count": null,
      "outputs": [
        {
          "output_type": "stream",
          "name": "stdout",
          "text": [
            "+------------------------------+----------+-----------+--------+--------+\n",
            "|                              | Accuracy | Precision | Recall |   F1   |\n",
            "+------------------------------+----------+-----------+--------+--------+\n",
            "|        Decision Tree         |  0.9994  |   0.9284  | 0.8722 | 0.8983 |\n",
            "|     Logistic Regression      |  0.999   |   0.8422  | 0.8647 | 0.8531 |\n",
            "|             kNN              |  0.9985  |   0.9992  | 0.5255 | 0.5482 |\n",
            "|      Polynomial Kernel       |  0.9984  |   0.4992  |  0.5   | 0.4996 |\n",
            "|        Sigmoid Kernel        |  0.9984  |   0.4992  |  0.5   | 0.4996 |\n",
            "| Radial Basis Function Kernel |  0.9984  |   0.4992  |  0.5   | 0.4996 |\n",
            "+------------------------------+----------+-----------+--------+--------+\n"
          ]
        }
      ]
    },
    {
      "cell_type": "markdown",
      "source": [
        "#Finally,\n",
        "Save a copy in your Github. Remember renaming the notebook."
      ],
      "metadata": {
        "id": "Ok7RGkea_b7n"
      }
    }
  ]
}