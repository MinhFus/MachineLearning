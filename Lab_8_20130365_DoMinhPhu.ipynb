{
  "cells": [
    {
      "cell_type": "markdown",
      "metadata": {
        "id": "view-in-github",
        "colab_type": "text"
      },
      "source": [
        "<a href=\"https://colab.research.google.com/github/MinhFus/MachineLearning/blob/main/Lab_8_20130365_DoMinhPhu.ipynb\" target=\"_parent\"><img src=\"https://colab.research.google.com/assets/colab-badge.svg\" alt=\"Open In Colab\"/></a>"
      ]
    },
    {
      "cell_type": "markdown",
      "metadata": {
        "id": "LMzehe0sy5wr"
      },
      "source": [
        "# This lab deals with **GridSearchCV** for tuning the hyper-parameters of an estimator and applying vectorization techniques to the **movie reviews dataset** for classification task. \n",
        "\n",
        "*   **Deadline: 23:59, 17/4/2023**\n",
        "\n"
      ]
    },
    {
      "cell_type": "markdown",
      "metadata": {
        "id": "H4nJmxp9zGX4"
      },
      "source": [
        "# Import libraries"
      ]
    },
    {
      "cell_type": "code",
      "execution_count": 13,
      "metadata": {
        "id": "DoVWQ8AEyc-C"
      },
      "outputs": [],
      "source": [
        "# code\n",
        "from sklearn import metrics\n",
        "from sklearn import svm, datasets\n",
        "from prettytable import PrettyTable\n",
        "from sklearn.model_selection import GridSearchCV\n",
        "from sklearn.neighbors import KNeighborsClassifier\n",
        "from sklearn.ensemble import RandomForestClassifier\n",
        "from sklearn.linear_model import LogisticRegression\n",
        "\n",
        "from sklearn.model_selection import train_test_split\n"
      ]
    },
    {
      "cell_type": "markdown",
      "metadata": {
        "id": "x_dG9SA5OhGT"
      },
      "source": [
        "#Task 1. With **iris** dataset\n",
        "*  1.1. Apply **GridSearchCV** for **SVM** to find the best hyperparameters using the following param_grid.\n",
        "\n",
        "```\n",
        "param_grid = {'C': [0.1, 1, 10, 100, 1000],\n",
        "              'gamma': [1, 0.1, 0.01, 0.001, 0.0001],\n",
        "              'kernel': ['rbf','linear']}\n",
        "```\n",
        "\n",
        "\n"
      ]
    },
    {
      "cell_type": "code",
      "execution_count": null,
      "metadata": {
        "id": "JCpjBTJy7p7F"
      },
      "outputs": [],
      "source": [
        "# Iris Dataset\n",
        "task1 = datasets.load_iris(as_frame=True)\n",
        "x_task1 = task1.data\n",
        "y_task1 = task1.target\n",
        "\n",
        "# split the iris\n",
        "X_train, X_test, Y_train, Y_test = train_test_split(x_task1,y_task1, test_size = 0.3, train_size=0.7,random_state=1)"
      ]
    },
    {
      "cell_type": "code",
      "execution_count": null,
      "metadata": {
        "id": "62jExOZ952fF"
      },
      "outputs": [],
      "source": [
        "#Create the grid\n",
        "param_grid = {'C': [0.1, 1, 10, 100, 1000], 'gamma': [1, 0.1, 0.01, 0.001, 0.0001],'kernel': ['rbf','linear']}"
      ]
    },
    {
      "cell_type": "code",
      "execution_count": null,
      "metadata": {
        "id": "2VJZGxoW8R_O"
      },
      "outputs": [],
      "source": [
        "# Using SVM to find the best hyperparameters\n",
        "clf = svm.SVC(kernel='linear', random_state=0)\n",
        "\n",
        "# Putting the piece\n",
        "grid_svm_class = GridSearchCV(   \n",
        "    estimator = clf,\n",
        "    param_grid = param_grid,\n",
        "    scoring='accuracy',\n",
        "    n_jobs = 4,\n",
        "    cv =10,\n",
        "    refit =True,\n",
        "    return_train_score=True)\n",
        "\n",
        "# Fix the object to our data of svm\n",
        "grid_svm_class.fit(X_train, Y_train)\n",
        "\n",
        "# Make predictions of svm\n",
        "y_pred_ln = grid_svm_class.predict(X_test)\n",
        "\n",
        "aces_LN = round(metrics.accuracy_score(Y_test, y_pred_ln),4)\n",
        "precision_LN = round(metrics.precision_score(Y_test, y_pred_ln, average='macro'),4)\n",
        "recall_LN = round(metrics.recall_score(Y_test, y_pred_ln, average='macro'),4)\n",
        "f1_LN = round(metrics.f1_score(Y_test, y_pred_ln, average='macro'),4)"
      ]
    },
    {
      "cell_type": "markdown",
      "metadata": {
        "id": "2g--8cng53sY"
      },
      "source": [
        "*  1.2. Apply **GridSearchCV** for **kNN** to find the best hyperparameters using the following param_grid.\n",
        "\n",
        "```\n",
        "grid_params = { 'n_neighbors' : [5,7,9,11,13,15],\n",
        "               'weights' : ['uniform','distance'],\n",
        "               'metric' : ['minkowski','euclidean','manhattan']}\n",
        "```\n",
        "where\n",
        "\n",
        "    *  **n_neighbors**: Decide the best k based on the values we have computed earlier.\n",
        "    *  **weights**: Check whether adding weights to the data points is beneficial to the model or not. 'uniform' assigns no weight, while 'distance' weighs points by the inverse of their distances meaning nearer points will have more weight than the farther points.\n",
        "    *  **metric**: The distance metric to be used will calculating the similarity.\n"
      ]
    },
    {
      "cell_type": "code",
      "execution_count": null,
      "metadata": {
        "id": "fX0_kItYPism"
      },
      "outputs": [],
      "source": [
        "#Create the grid\n",
        "grid_params = { 'n_neighbors' : [5,7,9,11,13,15],\n",
        "               'weights' : ['uniform','distance'],\n",
        "               'metric' : ['minkowski','euclidean','manhattan']}"
      ]
    },
    {
      "cell_type": "code",
      "execution_count": null,
      "metadata": {
        "id": "RkVlJh5pTPbv"
      },
      "outputs": [],
      "source": [
        "# Using KNN to find the best hyperparameters\n",
        "kNN = KNeighborsClassifier(n_neighbors = 10)\n",
        "\n",
        "# Putting the piece\n",
        "grid_knn_class = GridSearchCV(   \n",
        "    estimator = kNN,\n",
        "    param_grid = grid_params,\n",
        "    scoring='accuracy',\n",
        "    n_jobs = 4,\n",
        "    cv =10,\n",
        "    refit =True,\n",
        "    return_train_score=True)\n",
        "\n",
        "# Fix the object to our data of knn\n",
        "grid_knn_class.fit(X_train, Y_train)\n",
        "\n",
        "# Make predictions of knn\n",
        "y_pred_knn = grid_knn_class.predict(X_test)\n",
        "\n",
        "aces_Knn = round(metrics.accuracy_score(Y_test, y_pred_knn),4)\n",
        "precision_Knn = round(metrics.precision_score(Y_test, y_pred_knn, average='macro'),4)\n",
        "recall_Knn = round(metrics.recall_score(Y_test, y_pred_knn, average='macro'),4)\n",
        "f1_Knn = round(metrics.f1_score(Y_test, y_pred_knn, average='macro'),4)"
      ]
    },
    {
      "cell_type": "markdown",
      "metadata": {
        "id": "3lQSOcjL_TIW"
      },
      "source": [
        "*  1.3. Apply **GridSearchCV** for **Random Forest** to find the best hyperparameters using the following param_grid.\n",
        "\n",
        "```\n",
        "param_grid = {\n",
        "    'n_estimators': [25, 50, 100, 150],\n",
        "    'max_features': ['sqrt', 'log2', None],\n",
        "    'max_depth': [3, 6, 9],\n",
        "    'max_leaf_nodes': [3, 6, 9],\n",
        "}\n",
        "```"
      ]
    },
    {
      "cell_type": "code",
      "execution_count": 72,
      "metadata": {
        "id": "OlyF9WpN_01p"
      },
      "outputs": [],
      "source": [
        "#Create the grid\n",
        "param_grid_3 = {\n",
        "    'n_estimators': [25, 50, 100, 150],\n",
        "    'max_features': ['sqrt', 'log2', None],\n",
        "    'max_depth': [3, 6, 9],\n",
        "    'max_leaf_nodes': [3, 6, 9],\n",
        "}"
      ]
    },
    {
      "cell_type": "code",
      "execution_count": 73,
      "metadata": {
        "id": "8rhpC1USX_Za"
      },
      "outputs": [],
      "source": [
        "# Using Random Forest to find the best hyperparameters\n",
        "rdf = RandomForestClassifier(n_estimators=100)\n",
        "\n",
        "# Putting the piece\n",
        "grid_rdf_class = GridSearchCV(   \n",
        "    estimator = rdf,\n",
        "    param_grid = param_grid_3,\n",
        "    scoring='accuracy',\n",
        "    n_jobs = 4,\n",
        "    cv =10,\n",
        "    refit =True,\n",
        "    return_train_score=True)\n",
        "\n",
        "# Fix the object to our data of knn\n",
        "grid_rdf_class.fit(X_train, Y_train)\n",
        "\n",
        "# Make predictions of rdf\n",
        "y_pred_rdf = grid_rdf_class.predict(X_test)\n",
        "\n",
        "aces_rdf = round(metrics.accuracy_score(Y_test, y_pred_rdf),4)\n",
        "precision_rdf = round(metrics.precision_score(Y_test, y_pred_rdf, average='macro'),4)\n",
        "recall_rdf = round(metrics.recall_score(Y_test, y_pred_rdf, average='macro'),4)\n",
        "f1_rdf = round(metrics.f1_score(Y_test, y_pred_rdf, average='macro'),4)"
      ]
    },
    {
      "cell_type": "markdown",
      "metadata": {
        "id": "G3N7TD7s_3Kp"
      },
      "source": [
        "*   1.4 Compare the best obtained results from 1.1 to 1.3 (use PrettyTable to dispaly the results)"
      ]
    },
    {
      "cell_type": "code",
      "execution_count": 74,
      "metadata": {
        "colab": {
          "base_uri": "https://localhost:8080/"
        },
        "id": "Kz5-17JNEnIO",
        "outputId": "ddf72bd7-84dd-419d-fdc1-204da6392d93"
      },
      "outputs": [
        {
          "output_type": "stream",
          "name": "stdout",
          "text": [
            "+------------------------+----------+-----------+--------+--------+\n",
            "|                        | Accuracy | Precision | Recall |   F1   |\n",
            "+------------------------+----------+-----------+--------+--------+\n",
            "| Suport Vector Machine  |  0.9415  |   0.9433  | 0.9306 | 0.9363 |\n",
            "|          KNN           |  0.9357  |   0.9387  | 0.9226 | 0.9297 |\n",
            "|     Random Forest      |  0.9532  |   0.9527  | 0.9464 | 0.9494 |\n",
            "+------------------------+----------+-----------+--------+--------+\n"
          ]
        }
      ],
      "source": [
        "table= PrettyTable([\"\",\"Accuracy\", \"Precision\", \"Recall\", \"F1\"])\n",
        "table.add_row([\"Suport Vector Machine \",aces_LN,precision_LN,recall_LN,f1_LN])\n",
        "table.add_row([\"KNN \",aces_Knn,precision_Knn,recall_Knn,f1_Knn])\n",
        "table.add_row([\"Random Forest \",aces_rdf,precision_rdf,recall_rdf,f1_rdf])\n",
        "print(table)"
      ]
    },
    {
      "cell_type": "markdown",
      "metadata": {
        "id": "kNv07ARGzOUm"
      },
      "source": [
        "#Task 2. \n",
        "For breast cancer dataset (https://tinyurl.com/3vme8hr3) which could be loaded from datasets in sklearn as follows:\n",
        "\n",
        "```\n",
        "#Import scikit-learn dataset library\n",
        "from sklearn import datasets\n",
        "\n",
        "#Load dataset\n",
        "cancer = datasets.load_breast_cancer()\n",
        "```\n",
        "\n",
        "*   Apply **GridSearchCV** to different classification algorithms such as **SVM, kNN, LogisticRegression, RandomForest**.\n",
        "*   Compare the results obtained by the best hyperparameters among classification algorithms."
      ]
    },
    {
      "cell_type": "code",
      "execution_count": 56,
      "metadata": {
        "id": "bxW-LBH8dkJ0"
      },
      "outputs": [],
      "source": [
        "cancer = datasets.load_breast_cancer(as_frame=True)\n",
        "x_task2 = cancer.data\n",
        "y_task2 = cancer.target\n",
        "\n",
        "# split the iris\n",
        "X2_train, X2_test, Y2_train, Y2_test = train_test_split(x_task2,y_task2, test_size = 0.3, train_size=0.7,random_state=1)"
      ]
    },
    {
      "cell_type": "markdown",
      "metadata": {
        "id": "pnoVB8J4vV36"
      },
      "source": [
        "*   2.1. Apply **GridSearchCV** to **SVM** \n"
      ]
    },
    {
      "cell_type": "code",
      "execution_count": 83,
      "metadata": {
        "id": "qtn5Ikehf7NI"
      },
      "outputs": [],
      "source": [
        "#Create the grid\n",
        "param_grid_svm = {'C': [0.1, 1, 10, 100, 1000], 'gamma': [1, 0.1, 0.01, 0.001, 0.0001],'kernel': ['rbf','linear']}"
      ]
    },
    {
      "cell_type": "code",
      "execution_count": 84,
      "metadata": {
        "id": "985C7Hn4fAyn"
      },
      "outputs": [],
      "source": [
        "# Using SVM to find the best hyperparameters\n",
        "clf_cancer = svm.SVC(kernel='linear', random_state=0)\n",
        "\n",
        "# Putting the piece\n",
        "grid_svm_cancer_class = GridSearchCV(   \n",
        "    estimator = clf_cancer,\n",
        "    param_grid = param_grid_svm,\n",
        "    scoring='accuracy',\n",
        "    n_jobs = 4,\n",
        "    cv =10,\n",
        "    refit =True,\n",
        "    return_train_score=True)\n",
        "\n",
        "# Fix the object to our data of svm\n",
        "grid_svm_cancer_class.fit(X2_train, Y2_train)\n",
        "\n",
        "# Make predictions of svm\n",
        "y_pred_svm_cancer = grid_svm_cancer_class.predict(X2_test)\n",
        "\n",
        "aces_svm_cancer = round(metrics.accuracy_score(Y2_test, y_pred_svm_cancer),4)\n",
        "precision_svm_cancer = round(metrics.precision_score(Y2_test, y_pred_svm_cancer, average='macro'),4)\n",
        "recall_svm_cancer = round(metrics.recall_score(Y2_test, y_pred_svm_cancer, average='macro'),4)\n",
        "f1_svm_cancer = round(metrics.f1_score(Y2_test, y_pred_svm_cancer, average='macro'),4)"
      ]
    },
    {
      "cell_type": "markdown",
      "metadata": {
        "id": "ol1U_T_NvcqV"
      },
      "source": [
        "*   2.2. Apply **GridSearchCV** to **kNN** "
      ]
    },
    {
      "cell_type": "code",
      "source": [
        "#Create the grid\n",
        "grid_params = { 'n_neighbors' : [5,7,9,11,13,15],\n",
        "               'weights' : ['uniform','distance'],\n",
        "               'metric' : ['minkowski','euclidean','manhattan']}"
      ],
      "metadata": {
        "id": "_m6Vfg1t6xic"
      },
      "execution_count": 77,
      "outputs": []
    },
    {
      "cell_type": "code",
      "execution_count": 78,
      "metadata": {
        "id": "kt71yrAoBwYE"
      },
      "outputs": [],
      "source": [
        "# Using KNN to find the best hyperparameters\n",
        "kNN_cancer = KNeighborsClassifier(n_neighbors = 10)\n",
        "\n",
        "# Putting the piece\n",
        "grid_kNN_cancer_class = GridSearchCV(   \n",
        "    estimator = kNN_cancer,\n",
        "    param_grid = grid_params,\n",
        "    scoring='accuracy',\n",
        "    n_jobs = 4,\n",
        "    cv =10,\n",
        "    refit =True,\n",
        "    return_train_score=True)\n",
        "\n",
        "# Fix the object to our data of kNN_cancer\n",
        "grid_kNN_cancer_class.fit(X2_train, Y2_train)\n",
        "\n",
        "# Make predictions of kNN_cancer\n",
        "y_pred_kNN_cancer = grid_kNN_cancer_class.predict(X2_test)\n",
        "\n",
        "aces_kNN_cancer = round(metrics.accuracy_score(Y2_test, y_pred_kNN_cancer),4)\n",
        "precision_kNN_cancer = round(metrics.precision_score(Y2_test, y_pred_kNN_cancer, average='macro'),4)\n",
        "recall_kNN_cancer = round(metrics.recall_score(Y2_test, y_pred_kNN_cancer, average='macro'),4)\n",
        "f1_kNN_cancer = round(metrics.f1_score(Y2_test, y_pred_kNN_cancer, average='macro'),4)"
      ]
    },
    {
      "cell_type": "markdown",
      "metadata": {
        "id": "pPkAvse-BxNa"
      },
      "source": [
        "*   2.3. Apply **GridSearchCV** to **LogisticRegression** "
      ]
    },
    {
      "cell_type": "code",
      "source": [
        "param_grid_log = {'C': [0.001, 0.01, 0.1, 1, 10, 100, 1000] }"
      ],
      "metadata": {
        "id": "cLHbiMup7boL"
      },
      "execution_count": 81,
      "outputs": []
    },
    {
      "cell_type": "code",
      "execution_count": 82,
      "metadata": {
        "id": "nyYjpHFbB1Ci",
        "colab": {
          "base_uri": "https://localhost:8080/"
        },
        "outputId": "930f7932-c8d7-48b4-f528-00c4e3321e39"
      },
      "outputs": [
        {
          "output_type": "stream",
          "name": "stderr",
          "text": [
            "/usr/local/lib/python3.9/dist-packages/sklearn/linear_model/_logistic.py:458: ConvergenceWarning: lbfgs failed to converge (status=1):\n",
            "STOP: TOTAL NO. of ITERATIONS REACHED LIMIT.\n",
            "\n",
            "Increase the number of iterations (max_iter) or scale the data as shown in:\n",
            "    https://scikit-learn.org/stable/modules/preprocessing.html\n",
            "Please also refer to the documentation for alternative solver options:\n",
            "    https://scikit-learn.org/stable/modules/linear_model.html#logistic-regression\n",
            "  n_iter_i = _check_optimize_result(\n"
          ]
        }
      ],
      "source": [
        "# Using Logistic Regression to find the best hyperparameters\n",
        "classifier_cancer = LogisticRegression(random_state = 0) \n",
        "\n",
        "# Putting the piece\n",
        "grid_cls_cancer_class = GridSearchCV(   \n",
        "    estimator = classifier_cancer,\n",
        "    param_grid = param_grid_log,\n",
        "    scoring='accuracy',\n",
        "    n_jobs = 4,\n",
        "    cv =10,\n",
        "    refit =True,\n",
        "    return_train_score=True)\n",
        "\n",
        "# Fix the object to our data of knn\n",
        "grid_cls_cancer_class.fit(X2_train, Y2_train)\n",
        "\n",
        "# Make predictions of cls\n",
        "y_pred_cls_cancer = grid_cls_cancer_class.predict(X2_test)\n",
        "\n",
        "aces_cls_cancer = round(metrics.accuracy_score(Y2_test, y_pred_cls_cancer),4)\n",
        "precision_cls_cancer = round(metrics.precision_score(Y2_test, y_pred_cls_cancer, average='macro'),4)\n",
        "recall_cls_cancer = round(metrics.recall_score(Y2_test, y_pred_cls_cancer, average='macro'),4)\n",
        "f1_cls_cancer = round(metrics.f1_score(Y2_test, y_pred_cls_cancer, average='macro'),4)"
      ]
    },
    {
      "cell_type": "markdown",
      "metadata": {
        "id": "3NjSLo5jB1xY"
      },
      "source": [
        "*   2.4. Apply **GridSearchCV** to **RandomForest** "
      ]
    },
    {
      "cell_type": "code",
      "source": [
        "#Create the grid\n",
        "param_grid_3 = {\n",
        "    'n_estimators': [25, 50, 100, 150],\n",
        "    'max_features': ['sqrt', 'log2', None],\n",
        "    'max_depth': [3, 6, 9],\n",
        "    'max_leaf_nodes': [3, 6, 9],\n",
        "}"
      ],
      "metadata": {
        "id": "VY38HcX37D_7"
      },
      "execution_count": 79,
      "outputs": []
    },
    {
      "cell_type": "code",
      "execution_count": 107,
      "metadata": {
        "id": "nktGtM0PB7XB"
      },
      "outputs": [],
      "source": [
        "# Using Random Forest to find the best hyperparameters\n",
        "rdf_cancer = RandomForestClassifier(n_estimators=100)\n",
        "\n",
        "# Putting the piece\n",
        "grid_rdf_cancer_class = GridSearchCV(   \n",
        "    estimator = rdf_cancer ,\n",
        "    param_grid = param_grid_3 ,\n",
        "    scoring='accuracy',\n",
        "    n_jobs = 4,\n",
        "    cv =10,\n",
        "    refit =True,\n",
        "    return_train_score=True)\n",
        "\n",
        "# Fix the object to our data of knn\n",
        "grid_rdf_cancer_class.fit(X2_train, Y2_train)\n",
        "\n",
        "# Make predictions of rdf\n",
        "y_pred_rdf_cancer = grid_rdf_cancer_class.predict(X2_test)\n",
        "\n",
        "aces_rdf_cancer = round(metrics.accuracy_score(Y2_test, y_pred_rdf_cancer),4)\n",
        "precision_rdf_cancer = round(metrics.precision_score(Y2_test, y_pred_rdf_cancer, average='macro'),4)\n",
        "recall_rdf_cancer = round(metrics.recall_score(Y2_test, y_pred_rdf_cancer, average='macro'),4)\n",
        "f1_rdf_cancer = round(metrics.f1_score(Y2_test, y_pred_rdf_cancer, average='macro'),4)"
      ]
    },
    {
      "cell_type": "markdown",
      "metadata": {
        "id": "NZJ3BSHpB9Dx"
      },
      "source": [
        "*   2.5. Compare the best obtained results among classification algorithms (use PrettyTable to dispaly the results) "
      ]
    },
    {
      "cell_type": "code",
      "execution_count": 86,
      "metadata": {
        "id": "8LS_IYfNCFEj",
        "colab": {
          "base_uri": "https://localhost:8080/"
        },
        "outputId": "d3bcdc1b-8cbd-4e7b-82e9-992ab08425b2"
      },
      "outputs": [
        {
          "output_type": "stream",
          "name": "stdout",
          "text": [
            "+------------------------+----------+-----------+--------+--------+\n",
            "|                        | Accuracy | Precision | Recall |   F1   |\n",
            "+------------------------+----------+-----------+--------+--------+\n",
            "| Suport Vector Machine  |  0.9415  |   0.9433  | 0.9306 | 0.9363 |\n",
            "|          KNN           |  0.9357  |   0.9387  | 0.9226 | 0.9297 |\n",
            "|  Logistic Regression   |  0.9357  |   0.9298  | 0.9325 | 0.9311 |\n",
            "|     Random Forest      |  0.9415  |   0.9399  | 0.9339 | 0.9367 |\n",
            "+------------------------+----------+-----------+--------+--------+\n"
          ]
        }
      ],
      "source": [
        "table_2= PrettyTable([\"\",\"Accuracy\", \"Precision\", \"Recall\", \"F1\"])\n",
        "table_2.add_row([\"Suport Vector Machine \",aces_svm_cancer,precision_svm_cancer,recall_svm_cancer,f1_svm_cancer])\n",
        "table_2.add_row([\"KNN \",aces_kNN_cancer,precision_kNN_cancer,recall_kNN_cancer,f1_kNN_cancer])\n",
        "table_2.add_row([\"Logistic Regression \",aces_cls_cancer,precision_cls_cancer,recall_cls_cancer,f1_cls_cancer])\n",
        "table_2.add_row([\"Random Forest \",aces_rdf_cancer,precision_rdf_cancer,recall_rdf_cancer,f1_rdf_cancer])\n",
        "print(table_2)"
      ]
    },
    {
      "cell_type": "markdown",
      "metadata": {
        "id": "b52OPWPD2afi"
      },
      "source": [
        "#Task 3. \n",
        "The dataset consists of **2000 user-created movie reviews** archived on the IMDb(Internet Movie Database). The reviews are equally partitioned into a positive set and a negative set (1000+1000). Each review consists of a plain text file (.txt) and a class label representing the overall user opinion. \n",
        "The class attribute has only two values: **pos** (positive) or **neg** (negative).\n"
      ]
    },
    {
      "cell_type": "markdown",
      "metadata": {
        "id": "lDcxOQRmDz_h"
      },
      "source": [
        "*   3.1 Importing additional libraries"
      ]
    },
    {
      "cell_type": "code",
      "execution_count": 1,
      "metadata": {
        "id": "ZjyW06skDwvL",
        "colab": {
          "base_uri": "https://localhost:8080/"
        },
        "outputId": "9bb0f58a-dbb7-48a2-ab92-77e0e6f4ab9d"
      },
      "outputs": [
        {
          "output_type": "stream",
          "name": "stderr",
          "text": [
            "[nltk_data] Downloading package movie_reviews to /root/nltk_data...\n",
            "[nltk_data]   Unzipping corpora/movie_reviews.zip.\n"
          ]
        }
      ],
      "source": [
        "import nltk, random\n",
        "nltk.download('movie_reviews')#download movie reviews dataset\n",
        "from nltk.corpus import movie_reviews\n",
        "import pandas as pd\n",
        "import matplotlib.pyplot as plt\n",
        "import numpy as np\n",
        "from sklearn.model_selection import cross_val_score\n",
        "from collections import Counter\n",
        "from sklearn.model_selection import train_test_split"
      ]
    },
    {
      "cell_type": "markdown",
      "metadata": {
        "id": "RJpsTIiyv-1h"
      },
      "source": [
        "*   3.2. Movie reviews information"
      ]
    },
    {
      "cell_type": "code",
      "execution_count": 2,
      "metadata": {
        "id": "5ZE7A0Au1Pg0",
        "colab": {
          "base_uri": "https://localhost:8080/"
        },
        "outputId": "9a66d3d2-1f6b-4efa-bbca-525dc405eb09"
      },
      "outputs": [
        {
          "output_type": "stream",
          "name": "stdout",
          "text": [
            "2000\n",
            "['neg', 'pos']\n",
            "['plot', ':', 'two', 'teen', 'couples', 'go', 'to', ...]\n",
            "['neg/cv000_29416.txt', 'neg/cv001_19502.txt', 'neg/cv002_17424.txt', 'neg/cv003_12683.txt', 'neg/cv004_12641.txt', 'neg/cv005_29357.txt', 'neg/cv006_17022.txt', 'neg/cv007_4992.txt', 'neg/cv008_29326.txt', 'neg/cv009_29417.txt']\n"
          ]
        }
      ],
      "source": [
        "#code\n",
        "print(len(movie_reviews.fileids()))\n",
        "print(movie_reviews.categories())\n",
        "print(movie_reviews.words()[:100])\n",
        "print(movie_reviews.fileids()[:10])"
      ]
    },
    {
      "cell_type": "markdown",
      "metadata": {
        "id": "6pHmMpqMHS23"
      },
      "source": [
        "*   3.3. Create dataset from movie reviews"
      ]
    },
    {
      "cell_type": "code",
      "execution_count": 3,
      "metadata": {
        "id": "45aY6woMHSH5"
      },
      "outputs": [],
      "source": [
        "documents = [(list(movie_reviews.words(fileid)), category)\n",
        "             for category in movie_reviews.categories()\n",
        "             for fileid in movie_reviews.fileids(category)]\n",
        "random.seed(123)\n",
        "random.shuffle(documents)"
      ]
    },
    {
      "cell_type": "code",
      "execution_count": 5,
      "metadata": {
        "id": "NNke0Da5HqFa",
        "colab": {
          "base_uri": "https://localhost:8080/"
        },
        "outputId": "6841bccd-5931-422d-a767-2b3c3262fa24"
      },
      "outputs": [
        {
          "output_type": "stream",
          "name": "stdout",
          "text": [
            "Number of Reviews/Documents: 2000\n",
            "Corpus Size (words): 1583820\n",
            "Sample Text of Doc 1:\n",
            "------------------------------\n",
            "most movies seem to release a third movie just so it can be called a trilogy . rocky iii seems to kind of fit in that category , but manages to be slightly unique . the rocky formula of \" rocky loses fight / rocky trains / rocky wins fight\n"
          ]
        }
      ],
      "source": [
        "print('Number of Reviews/Documents: {}'.format(len(documents)))\n",
        "print('Corpus Size (words): {}'.format(np.sum([len(d) for (d,l) in documents])))\n",
        "print('Sample Text of Doc 1:')\n",
        "print('-'*30)\n",
        "print(' '.join(documents[0][0][:50])) # first 50 words of the first document"
      ]
    },
    {
      "cell_type": "code",
      "execution_count": 6,
      "metadata": {
        "id": "vVFUEhnXHsGd",
        "colab": {
          "base_uri": "https://localhost:8080/"
        },
        "outputId": "2e4c30b5-909a-4c31-c1e8-7a2260db4555"
      },
      "outputs": [
        {
          "output_type": "stream",
          "name": "stdout",
          "text": [
            "Counter({'pos': 1000, 'neg': 1000})\n"
          ]
        }
      ],
      "source": [
        "sentiment_distr = Counter([label for (words, label) in documents])\n",
        "print(sentiment_distr)"
      ]
    },
    {
      "cell_type": "markdown",
      "metadata": {
        "id": "jTXiEbMzHgVC"
      },
      "source": [
        "*   3.4. Train test split"
      ]
    },
    {
      "cell_type": "code",
      "execution_count": 7,
      "metadata": {
        "id": "v_-0gZZFHvJN"
      },
      "outputs": [],
      "source": [
        "train, test = train_test_split(documents, test_size = 0.33, random_state=42)"
      ]
    },
    {
      "cell_type": "code",
      "execution_count": 8,
      "metadata": {
        "id": "UUGlm5TGHvpV",
        "colab": {
          "base_uri": "https://localhost:8080/"
        },
        "outputId": "714e2ec9-0af3-4ae9-cdbd-8a401e34ccc1"
      },
      "outputs": [
        {
          "output_type": "stream",
          "name": "stdout",
          "text": [
            "Counter({'neg': 674, 'pos': 666})\n",
            "Counter({'pos': 334, 'neg': 326})\n"
          ]
        }
      ],
      "source": [
        "## Sentiment Distrubtion for Train and Test\n",
        "print(Counter([label for (words, label) in train]))\n",
        "print(Counter([label for (words, label) in test]))"
      ]
    },
    {
      "cell_type": "code",
      "execution_count": 9,
      "metadata": {
        "id": "l1ppl_0RHx1P"
      },
      "outputs": [],
      "source": [
        "X_train = [' '.join(words) for (words, label) in train]\n",
        "X_test = [' '.join(words) for (words, label) in test]\n",
        "y_train = [label for (words, label) in train]\n",
        "y_test = [label for (words, label) in test]"
      ]
    },
    {
      "cell_type": "markdown",
      "metadata": {
        "id": "7xUaXrjxH6Ee"
      },
      "source": [
        "*   3.5. Text Vectorization"
      ]
    },
    {
      "cell_type": "code",
      "execution_count": 10,
      "metadata": {
        "id": "fzwM0nsIH-8l"
      },
      "outputs": [],
      "source": [
        "from sklearn.feature_extraction.text import CountVectorizer, TfidfVectorizer\n",
        "\n",
        "tfidf_vec = TfidfVectorizer(min_df = 10, token_pattern = r'[a-zA-Z]+')\n",
        "X_train_bow = tfidf_vec.fit_transform(X_train) # fit train\n",
        "X_test_bow = tfidf_vec.transform(X_test) # transform test"
      ]
    },
    {
      "cell_type": "markdown",
      "metadata": {
        "id": "BP1vB3loIF28"
      },
      "source": [
        "*   3.6. Apply **SVM** with **GridSearchCV** "
      ]
    },
    {
      "cell_type": "code",
      "source": [
        "#Create the grid\n",
        "param_grid_svm = {'C': [0.1, 1, 10, 100, 1000], 'gamma': [1, 0.1, 0.01, 0.001, 0.0001],'kernel': ['rbf','linear']}"
      ],
      "metadata": {
        "id": "nBVf7C80DNHK"
      },
      "execution_count": 11,
      "outputs": []
    },
    {
      "cell_type": "code",
      "execution_count": 14,
      "metadata": {
        "id": "b3FHQqh1Hlrd"
      },
      "outputs": [],
      "source": [
        "# Using SVM to find the best hyperparameters\n",
        "clf_movie = svm.SVC(kernel='linear', random_state=0)\n",
        "\n",
        "# Putting the piece\n",
        "grid_svm_movie_class = GridSearchCV(   \n",
        "    estimator = clf_movie,\n",
        "    param_grid = param_grid_svm,\n",
        "    scoring='accuracy',\n",
        "    n_jobs = 4,\n",
        "    cv =10,\n",
        "    refit =True,\n",
        "    return_train_score=True)\n",
        "\n",
        "# Fix the object to our data of svm\n",
        "grid_svm_movie_class.fit(X_train_bow, y_train)\n",
        "\n",
        "# Make predictions of svm\n",
        "y_pred_svm_movie = grid_svm_movie_class.predict(X_test_bow)\n",
        "\n",
        "aces_svm_movie = round(metrics.accuracy_score(y_test, y_pred_svm_movie),4)\n",
        "precision_svm_movie = round(metrics.precision_score(y_test, y_pred_svm_movie, average='macro'),4)\n",
        "recall_svm_movie = round(metrics.recall_score(y_test, y_pred_svm_movie, average='macro'),4)\n",
        "f1_svm_movie = round(metrics.f1_score(y_test, y_pred_svm_movie, average='macro'),4)"
      ]
    },
    {
      "cell_type": "markdown",
      "metadata": {
        "id": "N1Fy8jYBIdxi"
      },
      "source": [
        "*   3.7. Apply **RandomForest** with **GridSearchCV** "
      ]
    },
    {
      "cell_type": "code",
      "execution_count": 106,
      "metadata": {
        "id": "Fyfw2R-gIhWl"
      },
      "outputs": [],
      "source": [
        "#Create the grid\n",
        "param_grid_3 = {\n",
        "    'n_estimators': [25, 50, 100, 150],\n",
        "    'max_features': ['sqrt', 'log2', None],\n",
        "    'max_depth': [3, 6, 9],\n",
        "    'max_leaf_nodes': [3, 6, 9],\n",
        "}"
      ]
    },
    {
      "cell_type": "code",
      "source": [
        "# Using Random Forest to find the best hyperparameters\n",
        "rdf_movie = RandomForestClassifier(n_estimators=100)\n",
        "\n",
        "# Putting the piece\n",
        "grid_rdf_movie_class = GridSearchCV(   \n",
        "    estimator = rdf_movie ,\n",
        "    param_grid = param_grid_3 ,\n",
        "    scoring='accuracy',\n",
        "    n_jobs = 4,\n",
        "    cv =10,\n",
        "    refit =True,\n",
        "    return_train_score=True)\n",
        "\n",
        "# Fix the object to our data of knn\n",
        "grid_rdf_movie_class.fit(X_train_bow, Y_train)\n",
        "\n",
        "# Make predictions of rdf\n",
        "y_pred_rdf_movie = grid_rdf_movie_class.predict(X_test_bow)\n",
        "\n",
        "aces_rdf_movie = round(metrics.accuracy_score(Y_test, y_pred_rdf_movie),4)\n",
        "precision_rdf_movie = round(metrics.precision_score(Y_test, y_pred_rdf_movie, average='macro'),4)\n",
        "recall_rdf_movie = round(metrics.recall_score(Y_test, y_pred_rdf_movie, average='macro'),4)\n",
        "f1_rdf_movie = round(metrics.f1_score(Y_test, y_pred_rdf_movie, average='macro'),4)"
      ],
      "metadata": {
        "id": "4-BnhAjFERdH"
      },
      "execution_count": 108,
      "outputs": []
    },
    {
      "cell_type": "markdown",
      "metadata": {
        "id": "_btsVKjIIiLT"
      },
      "source": [
        "*   3.8. Apply **kNN** with **GridSearchCV** "
      ]
    },
    {
      "cell_type": "code",
      "source": [
        "#Create the grid\n",
        "grid_params = { 'n_neighbors' : [5,7,9,11,13,15],\n",
        "               'weights' : ['uniform','distance'],\n",
        "               'metric' : ['minkowski','euclidean','manhattan']}"
      ],
      "metadata": {
        "id": "jDiGrjpTDibq"
      },
      "execution_count": 17,
      "outputs": []
    },
    {
      "cell_type": "code",
      "execution_count": null,
      "metadata": {
        "id": "IZmFu1ZQImhn"
      },
      "outputs": [],
      "source": [
        "# Using KNN to find the best hyperparameters\n",
        "kNN_movie = KNeighborsClassifier(n_neighbors = 10)\n",
        "\n",
        "# Putting the piece\n",
        "grid_kNN_movie_class = GridSearchCV(   \n",
        "    estimator = kNN_movie,\n",
        "    param_grid = grid_params,\n",
        "    scoring='accuracy',\n",
        "    n_jobs = 4,\n",
        "    cv =10,\n",
        "    refit =True,\n",
        "    return_train_score=True)\n",
        "\n",
        "# Fix the object to our data of kNN_movie\n",
        "grid_kNN_movie_class.fit(X_train_bow, y_train)\n",
        "\n",
        "# Make predictions of kNN_movie\n",
        "y_pred_kNN_movie = grid_kNN_movie_class.predict(X_test_bow)\n",
        "\n",
        "aces_kNN_movie = round(metrics.accuracy_score(y_test, y_pred_kNN_movie),4)\n",
        "precision_kNN_movie = round(metrics.precision_score(y_test, y_pred_kNN_movie, average='macro'),4)\n",
        "recall_kNN_movie = round(metrics.recall_score(y_test, y_pred_kNN_movie, average='macro'),4)\n",
        "f1_kNN_movie = round(metrics.f1_score(y_test, y_pred_kNN_movie, average='macro'),4)"
      ]
    },
    {
      "cell_type": "markdown",
      "metadata": {
        "id": "0Ix_HeVGIvDu"
      },
      "source": [
        "*   3.9. Apply **LogisticRegression** with **GridSearchCV** "
      ]
    },
    {
      "cell_type": "code",
      "source": [
        "param_grid_log = {'C': [0.001, 0.01, 0.1, 1, 10, 100, 1000] }"
      ],
      "metadata": {
        "id": "2yEzdm_rEEGA"
      },
      "execution_count": 104,
      "outputs": []
    },
    {
      "cell_type": "code",
      "execution_count": 105,
      "metadata": {
        "id": "sTd3alCMIr-i",
        "colab": {
          "base_uri": "https://localhost:8080/"
        },
        "outputId": "945fdfeb-b86c-4437-beda-34b61c8ebb9c"
      },
      "outputs": [
        {
          "output_type": "stream",
          "name": "stderr",
          "text": [
            "/usr/local/lib/python3.9/dist-packages/sklearn/linear_model/_logistic.py:458: ConvergenceWarning: lbfgs failed to converge (status=1):\n",
            "STOP: TOTAL NO. of ITERATIONS REACHED LIMIT.\n",
            "\n",
            "Increase the number of iterations (max_iter) or scale the data as shown in:\n",
            "    https://scikit-learn.org/stable/modules/preprocessing.html\n",
            "Please also refer to the documentation for alternative solver options:\n",
            "    https://scikit-learn.org/stable/modules/linear_model.html#logistic-regression\n",
            "  n_iter_i = _check_optimize_result(\n"
          ]
        }
      ],
      "source": [
        "# Using Logistic Regression to find the best hyperparameters\n",
        "classifier_movie = LogisticRegression(random_state = 0) \n",
        "\n",
        "# Putting the piece\n",
        "grid_cls_movie_class = GridSearchCV(   \n",
        "    estimator = classifier_movie,\n",
        "    param_grid = param_grid_log,\n",
        "    scoring='accuracy',\n",
        "    n_jobs = 4,\n",
        "    cv =10,\n",
        "    refit =True,\n",
        "    return_train_score=True)\n",
        "\n",
        "# Fix the object to our data of knn\n",
        "grid_cls_movie_class.fit(X_train_bow, Y2_train)\n",
        "\n",
        "# Make predictions of cls\n",
        "y_pred_cls_movie = grid_cls_movie_class.predict(X_test_bow)\n",
        "\n",
        "aces_cls_movie = round(metrics.accuracy_score(Y_test, y_pred_cls_movie),4)\n",
        "precision_cls_movie = round(metrics.precision_score(Y_test, y_pred_cls_movie, average='macro'),4)\n",
        "recall_cls_movie = round(metrics.recall_score(Y_test, y_pred_cls_movie, average='macro'),4)\n",
        "f1_cls_movie = round(metrics.f1_score(Yasaa_test, y_pred_cls_movie, average='macro'),4)"
      ]
    },
    {
      "cell_type": "markdown",
      "metadata": {
        "id": "nhYF2y6eI058"
      },
      "source": [
        "*   3.10. Compare the best obtained results among classification algorithms (use PrettyTable to dispaly the results) "
      ]
    },
    {
      "cell_type": "markdown",
      "metadata": {
        "id": "Ok7RGkea_b7n"
      },
      "source": [
        "#Finally,\n",
        "Save a copy in your Github. Remember renaming the notebook."
      ]
    }
  ],
  "metadata": {
    "colab": {
      "provenance": [],
      "include_colab_link": true
    },
    "kernelspec": {
      "display_name": "Python 3",
      "name": "python3"
    },
    "language_info": {
      "name": "python"
    }
  },
  "nbformat": 4,
  "nbformat_minor": 0
}